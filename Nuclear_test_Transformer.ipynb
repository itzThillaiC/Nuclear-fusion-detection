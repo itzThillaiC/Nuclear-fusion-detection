{
  "cells": [
    {
      "cell_type": "markdown",
      "metadata": {
        "id": "view-in-github",
        "colab_type": "text"
      },
      "source": [
        "<a href=\"https://colab.research.google.com/github/itzThillaiC/Nuclear-fusion-detection/blob/main/Nuclear_test_Transformer.ipynb\" target=\"_parent\"><img src=\"https://colab.research.google.com/assets/colab-badge.svg\" alt=\"Open In Colab\"/></a>"
      ]
    },
    {
      "cell_type": "code",
      "execution_count": 1,
      "metadata": {
        "id": "nMlTwXUf3_GU",
        "colab": {
          "base_uri": "https://localhost:8080/"
        },
        "outputId": "93d3ab92-a972-4c07-8e0d-d0f50426d378"
      },
      "outputs": [
        {
          "output_type": "stream",
          "name": "stdout",
          "text": [
            "/usr/bin/xdg-open: 869: www-browser: not found\n",
            "/usr/bin/xdg-open: 869: links2: not found\n",
            "/usr/bin/xdg-open: 869: elinks: not found\n",
            "/usr/bin/xdg-open: 869: links: not found\n",
            "/usr/bin/xdg-open: 869: lynx: not found\n",
            "/usr/bin/xdg-open: 869: w3m: not found\n",
            "xdg-open: no method available for opening 'https://accounts.google.com/o/oauth2/auth?client_id=564921029129.apps.googleusercontent.com&redirect_uri=https%3A%2F%2Fgd-ocaml-auth.appspot.com%2Foauth2callback&scope=https%3A%2F%2Fwww.googleapis.com%2Fauth%2Fdrive&response_type=code&access_type=offline&approval_prompt=force&state=VVennXyqP6fm5Il8Hf-C1MaS1xlCbokPEUpWCILQi%2FY'\n",
            "/bin/sh: 1: firefox: not found\n",
            "/bin/sh: 1: google-chrome: not found\n",
            "/bin/sh: 1: chromium-browser: not found\n",
            "/bin/sh: 1: open: not found\n",
            "Cannot retrieve auth tokens.\n",
            "Failure(\"Error opening URL:https://accounts.google.com/o/oauth2/auth?client_id=564921029129.apps.googleusercontent.com&redirect_uri=https%3A%2F%2Fgd-ocaml-auth.appspot.com%2Foauth2callback&scope=https%3A%2F%2Fwww.googleapis.com%2Fauth%2Fdrive&response_type=code&access_type=offline&approval_prompt=force&state=VVennXyqP6fm5Il8Hf-C1MaS1xlCbokPEUpWCILQi%2FY\")\n",
            "/content\n",
            "/content/gdrive\n",
            "Access token retrieved correctly.\n"
          ]
        }
      ],
      "source": [
        "!sudo echo -ne '\\n' | sudo add-apt-repository ppa:alessandro-strada/ppa >/dev/null 2>&1 # note: >/dev/null 2>&1 is used to supress printing\n",
        "!sudo apt update >/dev/null 2>&1\n",
        "!sudo apt install google-drive-ocamlfuse >/dev/null 2>&1\n",
        "!google-drive-ocamlfuse\n",
        "!sudo apt-get install w3m >/dev/null 2>&1 # to act as web browser\n",
        "!xdg-settings set default-web-browser w3m.desktop >/dev/null 2>&1 # to set default browser\n",
        "%cd /content\n",
        "!mkdir gdrive\n",
        "%cd gdrive\n",
        "!mkdir \"My_Drive\"\n",
        "!google-drive-ocamlfuse \"/content/gdrive/My_Drive\""
      ]
    },
    {
      "cell_type": "code",
      "execution_count": 2,
      "metadata": {
        "id": "u1LRcbrGhReM"
      },
      "outputs": [],
      "source": [
        "\n",
        "import pandas as pd\n",
        "import numpy as np\n",
        "\n",
        "df = pd.read_csv('/content/gdrive/My_Drive/Nuclear_fusion_data/fusion_experiment.csv', low_memory=False)"
      ]
    },
    {
      "cell_type": "code",
      "execution_count": 3,
      "metadata": {
        "colab": {
          "base_uri": "https://localhost:8080/",
          "height": 357
        },
        "id": "AJDBEmef3_GV",
        "outputId": "5b3586cb-2b39-4be8-e499-4749e56f4307"
      },
      "outputs": [
        {
          "output_type": "execute_result",
          "data": {
            "text/plain": [
              "   Unnamed: 0  Magnetic Field Fluctuations   Leakage  Instabilities  \\\n",
              "0           0                     0.037454  0.058078       0.028259   \n",
              "1           1                     0.095071  0.052697       0.045868   \n",
              "2           2                     0.073199  0.035104       0.009922   \n",
              "3           3                     0.059866  0.049321       0.044684   \n",
              "4           4                     0.015602  0.036510       0.020308   \n",
              "\n",
              "   Plasma Instabilities  Magnetic Field Strength Magnetic Field Configuration  \\\n",
              "0              0.015705                 9.000578                      tokamak   \n",
              "1              0.009551                 3.841421         reversed field pinch   \n",
              "2              0.013794                 1.467187                  stellarator   \n",
              "3              0.047349                 9.277696                      tokamak   \n",
              "4              0.088453                 4.926347         reversed field pinch   \n",
              "\n",
              "   Injection Energy  Beam Symmetry  Target Density Target Composition  \\\n",
              "0          5.713125       0.800007    2.026963e+19          deuterium   \n",
              "1          9.819548       0.082642    3.050685e+19  deuterium-tritium   \n",
              "2          7.016781       0.176319    5.287388e+19            tritium   \n",
              "3          4.018930       0.833709    5.961305e+19  deuterium-tritium   \n",
              "4          6.145836       0.808161    7.887942e+19          deuterium   \n",
              "\n",
              "   Fuel Density   Temperature  Confinement Time  Fuel Purity  Energy Input  \\\n",
              "0  7.612226e+19  4.050388e+08          0.842126    99.971295    250.726719   \n",
              "1  8.742441e+19  2.551963e+08          0.504637    99.951049    345.614166   \n",
              "2  8.236610e+19  2.627651e+08          0.357445    99.958831    290.050980   \n",
              "3  9.079654e+19  3.104709e+08          0.992195    99.997186    436.491093   \n",
              "4  8.186142e+19  3.258529e+08          0.648677    99.927054    198.773196   \n",
              "\n",
              "   Power Output      Pressure  Neutron Yield  Ignition  \n",
              "0     55.321517  6.107792e+06   5.443404e+10         0  \n",
              "1     22.767959  4.921946e+06   8.372016e+10         0  \n",
              "2     49.872944  9.798230e+06   8.112584e+10         1  \n",
              "3      2.656182  5.611293e+06   4.423307e+10         1  \n",
              "4     48.096005  8.541064e+06   2.245276e+10         0  "
            ],
            "text/html": [
              "\n",
              "  <div id=\"df-60359d5a-de84-4652-ab13-c8e1baca61d4\">\n",
              "    <div class=\"colab-df-container\">\n",
              "      <div>\n",
              "<style scoped>\n",
              "    .dataframe tbody tr th:only-of-type {\n",
              "        vertical-align: middle;\n",
              "    }\n",
              "\n",
              "    .dataframe tbody tr th {\n",
              "        vertical-align: top;\n",
              "    }\n",
              "\n",
              "    .dataframe thead th {\n",
              "        text-align: right;\n",
              "    }\n",
              "</style>\n",
              "<table border=\"1\" class=\"dataframe\">\n",
              "  <thead>\n",
              "    <tr style=\"text-align: right;\">\n",
              "      <th></th>\n",
              "      <th>Unnamed: 0</th>\n",
              "      <th>Magnetic Field Fluctuations</th>\n",
              "      <th>Leakage</th>\n",
              "      <th>Instabilities</th>\n",
              "      <th>Plasma Instabilities</th>\n",
              "      <th>Magnetic Field Strength</th>\n",
              "      <th>Magnetic Field Configuration</th>\n",
              "      <th>Injection Energy</th>\n",
              "      <th>Beam Symmetry</th>\n",
              "      <th>Target Density</th>\n",
              "      <th>Target Composition</th>\n",
              "      <th>Fuel Density</th>\n",
              "      <th>Temperature</th>\n",
              "      <th>Confinement Time</th>\n",
              "      <th>Fuel Purity</th>\n",
              "      <th>Energy Input</th>\n",
              "      <th>Power Output</th>\n",
              "      <th>Pressure</th>\n",
              "      <th>Neutron Yield</th>\n",
              "      <th>Ignition</th>\n",
              "    </tr>\n",
              "  </thead>\n",
              "  <tbody>\n",
              "    <tr>\n",
              "      <th>0</th>\n",
              "      <td>0</td>\n",
              "      <td>0.037454</td>\n",
              "      <td>0.058078</td>\n",
              "      <td>0.028259</td>\n",
              "      <td>0.015705</td>\n",
              "      <td>9.000578</td>\n",
              "      <td>tokamak</td>\n",
              "      <td>5.713125</td>\n",
              "      <td>0.800007</td>\n",
              "      <td>2.026963e+19</td>\n",
              "      <td>deuterium</td>\n",
              "      <td>7.612226e+19</td>\n",
              "      <td>4.050388e+08</td>\n",
              "      <td>0.842126</td>\n",
              "      <td>99.971295</td>\n",
              "      <td>250.726719</td>\n",
              "      <td>55.321517</td>\n",
              "      <td>6.107792e+06</td>\n",
              "      <td>5.443404e+10</td>\n",
              "      <td>0</td>\n",
              "    </tr>\n",
              "    <tr>\n",
              "      <th>1</th>\n",
              "      <td>1</td>\n",
              "      <td>0.095071</td>\n",
              "      <td>0.052697</td>\n",
              "      <td>0.045868</td>\n",
              "      <td>0.009551</td>\n",
              "      <td>3.841421</td>\n",
              "      <td>reversed field pinch</td>\n",
              "      <td>9.819548</td>\n",
              "      <td>0.082642</td>\n",
              "      <td>3.050685e+19</td>\n",
              "      <td>deuterium-tritium</td>\n",
              "      <td>8.742441e+19</td>\n",
              "      <td>2.551963e+08</td>\n",
              "      <td>0.504637</td>\n",
              "      <td>99.951049</td>\n",
              "      <td>345.614166</td>\n",
              "      <td>22.767959</td>\n",
              "      <td>4.921946e+06</td>\n",
              "      <td>8.372016e+10</td>\n",
              "      <td>0</td>\n",
              "    </tr>\n",
              "    <tr>\n",
              "      <th>2</th>\n",
              "      <td>2</td>\n",
              "      <td>0.073199</td>\n",
              "      <td>0.035104</td>\n",
              "      <td>0.009922</td>\n",
              "      <td>0.013794</td>\n",
              "      <td>1.467187</td>\n",
              "      <td>stellarator</td>\n",
              "      <td>7.016781</td>\n",
              "      <td>0.176319</td>\n",
              "      <td>5.287388e+19</td>\n",
              "      <td>tritium</td>\n",
              "      <td>8.236610e+19</td>\n",
              "      <td>2.627651e+08</td>\n",
              "      <td>0.357445</td>\n",
              "      <td>99.958831</td>\n",
              "      <td>290.050980</td>\n",
              "      <td>49.872944</td>\n",
              "      <td>9.798230e+06</td>\n",
              "      <td>8.112584e+10</td>\n",
              "      <td>1</td>\n",
              "    </tr>\n",
              "    <tr>\n",
              "      <th>3</th>\n",
              "      <td>3</td>\n",
              "      <td>0.059866</td>\n",
              "      <td>0.049321</td>\n",
              "      <td>0.044684</td>\n",
              "      <td>0.047349</td>\n",
              "      <td>9.277696</td>\n",
              "      <td>tokamak</td>\n",
              "      <td>4.018930</td>\n",
              "      <td>0.833709</td>\n",
              "      <td>5.961305e+19</td>\n",
              "      <td>deuterium-tritium</td>\n",
              "      <td>9.079654e+19</td>\n",
              "      <td>3.104709e+08</td>\n",
              "      <td>0.992195</td>\n",
              "      <td>99.997186</td>\n",
              "      <td>436.491093</td>\n",
              "      <td>2.656182</td>\n",
              "      <td>5.611293e+06</td>\n",
              "      <td>4.423307e+10</td>\n",
              "      <td>1</td>\n",
              "    </tr>\n",
              "    <tr>\n",
              "      <th>4</th>\n",
              "      <td>4</td>\n",
              "      <td>0.015602</td>\n",
              "      <td>0.036510</td>\n",
              "      <td>0.020308</td>\n",
              "      <td>0.088453</td>\n",
              "      <td>4.926347</td>\n",
              "      <td>reversed field pinch</td>\n",
              "      <td>6.145836</td>\n",
              "      <td>0.808161</td>\n",
              "      <td>7.887942e+19</td>\n",
              "      <td>deuterium</td>\n",
              "      <td>8.186142e+19</td>\n",
              "      <td>3.258529e+08</td>\n",
              "      <td>0.648677</td>\n",
              "      <td>99.927054</td>\n",
              "      <td>198.773196</td>\n",
              "      <td>48.096005</td>\n",
              "      <td>8.541064e+06</td>\n",
              "      <td>2.245276e+10</td>\n",
              "      <td>0</td>\n",
              "    </tr>\n",
              "  </tbody>\n",
              "</table>\n",
              "</div>\n",
              "      <button class=\"colab-df-convert\" onclick=\"convertToInteractive('df-60359d5a-de84-4652-ab13-c8e1baca61d4')\"\n",
              "              title=\"Convert this dataframe to an interactive table.\"\n",
              "              style=\"display:none;\">\n",
              "        \n",
              "  <svg xmlns=\"http://www.w3.org/2000/svg\" height=\"24px\"viewBox=\"0 0 24 24\"\n",
              "       width=\"24px\">\n",
              "    <path d=\"M0 0h24v24H0V0z\" fill=\"none\"/>\n",
              "    <path d=\"M18.56 5.44l.94 2.06.94-2.06 2.06-.94-2.06-.94-.94-2.06-.94 2.06-2.06.94zm-11 1L8.5 8.5l.94-2.06 2.06-.94-2.06-.94L8.5 2.5l-.94 2.06-2.06.94zm10 10l.94 2.06.94-2.06 2.06-.94-2.06-.94-.94-2.06-.94 2.06-2.06.94z\"/><path d=\"M17.41 7.96l-1.37-1.37c-.4-.4-.92-.59-1.43-.59-.52 0-1.04.2-1.43.59L10.3 9.45l-7.72 7.72c-.78.78-.78 2.05 0 2.83L4 21.41c.39.39.9.59 1.41.59.51 0 1.02-.2 1.41-.59l7.78-7.78 2.81-2.81c.8-.78.8-2.07 0-2.86zM5.41 20L4 18.59l7.72-7.72 1.47 1.35L5.41 20z\"/>\n",
              "  </svg>\n",
              "      </button>\n",
              "      \n",
              "  <style>\n",
              "    .colab-df-container {\n",
              "      display:flex;\n",
              "      flex-wrap:wrap;\n",
              "      gap: 12px;\n",
              "    }\n",
              "\n",
              "    .colab-df-convert {\n",
              "      background-color: #E8F0FE;\n",
              "      border: none;\n",
              "      border-radius: 50%;\n",
              "      cursor: pointer;\n",
              "      display: none;\n",
              "      fill: #1967D2;\n",
              "      height: 32px;\n",
              "      padding: 0 0 0 0;\n",
              "      width: 32px;\n",
              "    }\n",
              "\n",
              "    .colab-df-convert:hover {\n",
              "      background-color: #E2EBFA;\n",
              "      box-shadow: 0px 1px 2px rgba(60, 64, 67, 0.3), 0px 1px 3px 1px rgba(60, 64, 67, 0.15);\n",
              "      fill: #174EA6;\n",
              "    }\n",
              "\n",
              "    [theme=dark] .colab-df-convert {\n",
              "      background-color: #3B4455;\n",
              "      fill: #D2E3FC;\n",
              "    }\n",
              "\n",
              "    [theme=dark] .colab-df-convert:hover {\n",
              "      background-color: #434B5C;\n",
              "      box-shadow: 0px 1px 3px 1px rgba(0, 0, 0, 0.15);\n",
              "      filter: drop-shadow(0px 1px 2px rgba(0, 0, 0, 0.3));\n",
              "      fill: #FFFFFF;\n",
              "    }\n",
              "  </style>\n",
              "\n",
              "      <script>\n",
              "        const buttonEl =\n",
              "          document.querySelector('#df-60359d5a-de84-4652-ab13-c8e1baca61d4 button.colab-df-convert');\n",
              "        buttonEl.style.display =\n",
              "          google.colab.kernel.accessAllowed ? 'block' : 'none';\n",
              "\n",
              "        async function convertToInteractive(key) {\n",
              "          const element = document.querySelector('#df-60359d5a-de84-4652-ab13-c8e1baca61d4');\n",
              "          const dataTable =\n",
              "            await google.colab.kernel.invokeFunction('convertToInteractive',\n",
              "                                                     [key], {});\n",
              "          if (!dataTable) return;\n",
              "\n",
              "          const docLinkHtml = 'Like what you see? Visit the ' +\n",
              "            '<a target=\"_blank\" href=https://colab.research.google.com/notebooks/data_table.ipynb>data table notebook</a>'\n",
              "            + ' to learn more about interactive tables.';\n",
              "          element.innerHTML = '';\n",
              "          dataTable['output_type'] = 'display_data';\n",
              "          await google.colab.output.renderOutput(dataTable, element);\n",
              "          const docLink = document.createElement('div');\n",
              "          docLink.innerHTML = docLinkHtml;\n",
              "          element.appendChild(docLink);\n",
              "        }\n",
              "      </script>\n",
              "    </div>\n",
              "  </div>\n",
              "  "
            ]
          },
          "metadata": {},
          "execution_count": 3
        }
      ],
      "source": [
        "df.head(5)\n"
      ]
    },
    {
      "cell_type": "code",
      "execution_count": 4,
      "metadata": {
        "id": "24uVov743_GX",
        "outputId": "ac51805c-4a0f-4129-b693-cd41d48cc8ef",
        "colab": {
          "base_uri": "https://localhost:8080/"
        }
      },
      "outputs": [
        {
          "output_type": "stream",
          "name": "stdout",
          "text": [
            "<class 'pandas.core.frame.DataFrame'>\n",
            "RangeIndex: 100000 entries, 0 to 99999\n",
            "Data columns (total 20 columns):\n",
            " #   Column                        Non-Null Count   Dtype  \n",
            "---  ------                        --------------   -----  \n",
            " 0   Unnamed: 0                    100000 non-null  int64  \n",
            " 1   Magnetic Field Fluctuations   100000 non-null  float64\n",
            " 2   Leakage                       100000 non-null  float64\n",
            " 3   Instabilities                 100000 non-null  float64\n",
            " 4   Plasma Instabilities          100000 non-null  float64\n",
            " 5   Magnetic Field Strength       100000 non-null  float64\n",
            " 6   Magnetic Field Configuration  100000 non-null  object \n",
            " 7   Injection Energy              100000 non-null  float64\n",
            " 8   Beam Symmetry                 100000 non-null  float64\n",
            " 9   Target Density                100000 non-null  float64\n",
            " 10  Target Composition            100000 non-null  object \n",
            " 11  Fuel Density                  100000 non-null  float64\n",
            " 12  Temperature                   100000 non-null  float64\n",
            " 13  Confinement Time              100000 non-null  float64\n",
            " 14  Fuel Purity                   100000 non-null  float64\n",
            " 15  Energy Input                  100000 non-null  float64\n",
            " 16  Power Output                  100000 non-null  float64\n",
            " 17  Pressure                      100000 non-null  float64\n",
            " 18  Neutron Yield                 100000 non-null  float64\n",
            " 19  Ignition                      100000 non-null  int64  \n",
            "dtypes: float64(16), int64(2), object(2)\n",
            "memory usage: 15.3+ MB\n"
          ]
        }
      ],
      "source": [
        "df.info()"
      ]
    },
    {
      "cell_type": "code",
      "execution_count": 5,
      "metadata": {
        "colab": {
          "base_uri": "https://localhost:8080/",
          "height": 522
        },
        "id": "92poUGwZ3_GY",
        "outputId": "779ddd1c-f806-41cc-a4ab-6ab745a579e3"
      },
      "outputs": [
        {
          "output_type": "execute_result",
          "data": {
            "text/plain": [
              "       Unnamed: 0  Magnetic Field Fluctuations   Leakage  Instabilities  \\\n",
              "0               0                     0.037454  0.058078       0.028259   \n",
              "1               1                     0.095071  0.052697       0.045868   \n",
              "2               2                     0.073199  0.035104       0.009922   \n",
              "3               3                     0.059866  0.049321       0.044684   \n",
              "4               4                     0.015602  0.036510       0.020308   \n",
              "...           ...                          ...       ...            ...   \n",
              "99995       99995                     0.079230  0.062215       0.009281   \n",
              "99996       99996                     0.077925  0.062922       0.062563   \n",
              "99997       99997                     0.067445  0.019220       0.062666   \n",
              "99998       99998                     0.049945  0.065308       0.004765   \n",
              "99999       99999                     0.038991  0.000156       0.070408   \n",
              "\n",
              "       Plasma Instabilities  Magnetic Field Strength  \\\n",
              "0                  0.015705                 9.000578   \n",
              "1                  0.009551                 3.841421   \n",
              "2                  0.013794                 1.467187   \n",
              "3                  0.047349                 9.277696   \n",
              "4                  0.088453                 4.926347   \n",
              "...                     ...                      ...   \n",
              "99995              0.075015                 6.989681   \n",
              "99996              0.027253                 9.904975   \n",
              "99997              0.057559                 5.389669   \n",
              "99998              0.089334                 6.984881   \n",
              "99999              0.050242                 6.640008   \n",
              "\n",
              "       Magnetic Field Configuration  Injection Energy  Beam Symmetry  \\\n",
              "0                                 2          5.713125       0.800007   \n",
              "1                                 0          9.819548       0.082642   \n",
              "2                                 1          7.016781       0.176319   \n",
              "3                                 2          4.018930       0.833709   \n",
              "4                                 0          6.145836       0.808161   \n",
              "...                             ...               ...            ...   \n",
              "99995                             2          8.363230       0.080241   \n",
              "99996                             0          3.718771       0.977716   \n",
              "99997                             2          8.788397       0.374680   \n",
              "99998                             2          3.024949       0.926179   \n",
              "99999                             2          6.296842       0.885714   \n",
              "\n",
              "       Target Density  Target Composition  Fuel Density   Temperature  \\\n",
              "0        2.026963e+19                   0  7.612226e+19  4.050388e+08   \n",
              "1        3.050685e+19                   1  8.742441e+19  2.551963e+08   \n",
              "2        5.287388e+19                   2  8.236610e+19  2.627651e+08   \n",
              "3        5.961305e+19                   1  9.079654e+19  3.104709e+08   \n",
              "4        7.887942e+19                   0  8.186142e+19  3.258529e+08   \n",
              "...               ...                 ...           ...           ...   \n",
              "99995    6.220430e+19                   1  8.029543e+19  3.534515e+08   \n",
              "99996    3.429971e+19                   2  1.608651e+19  4.554238e+08   \n",
              "99997    4.750184e+19                   2  3.021016e+19  2.331046e+08   \n",
              "99998    3.030606e+19                   1  4.217068e+19  2.660837e+08   \n",
              "99999    7.313929e+19                   0  3.560199e+19  4.370338e+08   \n",
              "\n",
              "       Confinement Time  Fuel Purity  Energy Input  Power Output  \\\n",
              "0              0.842126    99.971295    250.726719     55.321517   \n",
              "1              0.504637    99.951049    345.614166     22.767959   \n",
              "2              0.357445    99.958831    290.050980     49.872944   \n",
              "3              0.992195    99.997186    436.491093      2.656182   \n",
              "4              0.648677    99.927054    198.773196     48.096005   \n",
              "...                 ...          ...           ...           ...   \n",
              "99995          0.434566    99.917577    130.728901     51.822726   \n",
              "99996          0.888713    99.902695    114.869008      9.746068   \n",
              "99997          0.323766    99.910285    458.044080     69.116870   \n",
              "99998          0.646530    99.984932    342.844863     31.591851   \n",
              "99999          0.982118    99.978973    478.135341     92.487755   \n",
              "\n",
              "           Pressure  Neutron Yield  Ignition  \n",
              "0      6.107792e+06   5.443404e+10         0  \n",
              "1      4.921946e+06   8.372016e+10         0  \n",
              "2      9.798230e+06   8.112584e+10         1  \n",
              "3      5.611293e+06   4.423307e+10         1  \n",
              "4      8.541064e+06   2.245276e+10         0  \n",
              "...             ...            ...       ...  \n",
              "99995  9.611845e+06   6.252602e+10         0  \n",
              "99996  1.099463e+06   4.545773e+10         0  \n",
              "99997  7.473165e+06   7.240109e+10         0  \n",
              "99998  6.759779e+06   7.576517e+10         0  \n",
              "99999  5.169346e+06   9.004981e+10         0  \n",
              "\n",
              "[100000 rows x 20 columns]"
            ],
            "text/html": [
              "\n",
              "  <div id=\"df-5232fa40-c659-4d3c-96d3-20897860b2ef\">\n",
              "    <div class=\"colab-df-container\">\n",
              "      <div>\n",
              "<style scoped>\n",
              "    .dataframe tbody tr th:only-of-type {\n",
              "        vertical-align: middle;\n",
              "    }\n",
              "\n",
              "    .dataframe tbody tr th {\n",
              "        vertical-align: top;\n",
              "    }\n",
              "\n",
              "    .dataframe thead th {\n",
              "        text-align: right;\n",
              "    }\n",
              "</style>\n",
              "<table border=\"1\" class=\"dataframe\">\n",
              "  <thead>\n",
              "    <tr style=\"text-align: right;\">\n",
              "      <th></th>\n",
              "      <th>Unnamed: 0</th>\n",
              "      <th>Magnetic Field Fluctuations</th>\n",
              "      <th>Leakage</th>\n",
              "      <th>Instabilities</th>\n",
              "      <th>Plasma Instabilities</th>\n",
              "      <th>Magnetic Field Strength</th>\n",
              "      <th>Magnetic Field Configuration</th>\n",
              "      <th>Injection Energy</th>\n",
              "      <th>Beam Symmetry</th>\n",
              "      <th>Target Density</th>\n",
              "      <th>Target Composition</th>\n",
              "      <th>Fuel Density</th>\n",
              "      <th>Temperature</th>\n",
              "      <th>Confinement Time</th>\n",
              "      <th>Fuel Purity</th>\n",
              "      <th>Energy Input</th>\n",
              "      <th>Power Output</th>\n",
              "      <th>Pressure</th>\n",
              "      <th>Neutron Yield</th>\n",
              "      <th>Ignition</th>\n",
              "    </tr>\n",
              "  </thead>\n",
              "  <tbody>\n",
              "    <tr>\n",
              "      <th>0</th>\n",
              "      <td>0</td>\n",
              "      <td>0.037454</td>\n",
              "      <td>0.058078</td>\n",
              "      <td>0.028259</td>\n",
              "      <td>0.015705</td>\n",
              "      <td>9.000578</td>\n",
              "      <td>2</td>\n",
              "      <td>5.713125</td>\n",
              "      <td>0.800007</td>\n",
              "      <td>2.026963e+19</td>\n",
              "      <td>0</td>\n",
              "      <td>7.612226e+19</td>\n",
              "      <td>4.050388e+08</td>\n",
              "      <td>0.842126</td>\n",
              "      <td>99.971295</td>\n",
              "      <td>250.726719</td>\n",
              "      <td>55.321517</td>\n",
              "      <td>6.107792e+06</td>\n",
              "      <td>5.443404e+10</td>\n",
              "      <td>0</td>\n",
              "    </tr>\n",
              "    <tr>\n",
              "      <th>1</th>\n",
              "      <td>1</td>\n",
              "      <td>0.095071</td>\n",
              "      <td>0.052697</td>\n",
              "      <td>0.045868</td>\n",
              "      <td>0.009551</td>\n",
              "      <td>3.841421</td>\n",
              "      <td>0</td>\n",
              "      <td>9.819548</td>\n",
              "      <td>0.082642</td>\n",
              "      <td>3.050685e+19</td>\n",
              "      <td>1</td>\n",
              "      <td>8.742441e+19</td>\n",
              "      <td>2.551963e+08</td>\n",
              "      <td>0.504637</td>\n",
              "      <td>99.951049</td>\n",
              "      <td>345.614166</td>\n",
              "      <td>22.767959</td>\n",
              "      <td>4.921946e+06</td>\n",
              "      <td>8.372016e+10</td>\n",
              "      <td>0</td>\n",
              "    </tr>\n",
              "    <tr>\n",
              "      <th>2</th>\n",
              "      <td>2</td>\n",
              "      <td>0.073199</td>\n",
              "      <td>0.035104</td>\n",
              "      <td>0.009922</td>\n",
              "      <td>0.013794</td>\n",
              "      <td>1.467187</td>\n",
              "      <td>1</td>\n",
              "      <td>7.016781</td>\n",
              "      <td>0.176319</td>\n",
              "      <td>5.287388e+19</td>\n",
              "      <td>2</td>\n",
              "      <td>8.236610e+19</td>\n",
              "      <td>2.627651e+08</td>\n",
              "      <td>0.357445</td>\n",
              "      <td>99.958831</td>\n",
              "      <td>290.050980</td>\n",
              "      <td>49.872944</td>\n",
              "      <td>9.798230e+06</td>\n",
              "      <td>8.112584e+10</td>\n",
              "      <td>1</td>\n",
              "    </tr>\n",
              "    <tr>\n",
              "      <th>3</th>\n",
              "      <td>3</td>\n",
              "      <td>0.059866</td>\n",
              "      <td>0.049321</td>\n",
              "      <td>0.044684</td>\n",
              "      <td>0.047349</td>\n",
              "      <td>9.277696</td>\n",
              "      <td>2</td>\n",
              "      <td>4.018930</td>\n",
              "      <td>0.833709</td>\n",
              "      <td>5.961305e+19</td>\n",
              "      <td>1</td>\n",
              "      <td>9.079654e+19</td>\n",
              "      <td>3.104709e+08</td>\n",
              "      <td>0.992195</td>\n",
              "      <td>99.997186</td>\n",
              "      <td>436.491093</td>\n",
              "      <td>2.656182</td>\n",
              "      <td>5.611293e+06</td>\n",
              "      <td>4.423307e+10</td>\n",
              "      <td>1</td>\n",
              "    </tr>\n",
              "    <tr>\n",
              "      <th>4</th>\n",
              "      <td>4</td>\n",
              "      <td>0.015602</td>\n",
              "      <td>0.036510</td>\n",
              "      <td>0.020308</td>\n",
              "      <td>0.088453</td>\n",
              "      <td>4.926347</td>\n",
              "      <td>0</td>\n",
              "      <td>6.145836</td>\n",
              "      <td>0.808161</td>\n",
              "      <td>7.887942e+19</td>\n",
              "      <td>0</td>\n",
              "      <td>8.186142e+19</td>\n",
              "      <td>3.258529e+08</td>\n",
              "      <td>0.648677</td>\n",
              "      <td>99.927054</td>\n",
              "      <td>198.773196</td>\n",
              "      <td>48.096005</td>\n",
              "      <td>8.541064e+06</td>\n",
              "      <td>2.245276e+10</td>\n",
              "      <td>0</td>\n",
              "    </tr>\n",
              "    <tr>\n",
              "      <th>...</th>\n",
              "      <td>...</td>\n",
              "      <td>...</td>\n",
              "      <td>...</td>\n",
              "      <td>...</td>\n",
              "      <td>...</td>\n",
              "      <td>...</td>\n",
              "      <td>...</td>\n",
              "      <td>...</td>\n",
              "      <td>...</td>\n",
              "      <td>...</td>\n",
              "      <td>...</td>\n",
              "      <td>...</td>\n",
              "      <td>...</td>\n",
              "      <td>...</td>\n",
              "      <td>...</td>\n",
              "      <td>...</td>\n",
              "      <td>...</td>\n",
              "      <td>...</td>\n",
              "      <td>...</td>\n",
              "      <td>...</td>\n",
              "    </tr>\n",
              "    <tr>\n",
              "      <th>99995</th>\n",
              "      <td>99995</td>\n",
              "      <td>0.079230</td>\n",
              "      <td>0.062215</td>\n",
              "      <td>0.009281</td>\n",
              "      <td>0.075015</td>\n",
              "      <td>6.989681</td>\n",
              "      <td>2</td>\n",
              "      <td>8.363230</td>\n",
              "      <td>0.080241</td>\n",
              "      <td>6.220430e+19</td>\n",
              "      <td>1</td>\n",
              "      <td>8.029543e+19</td>\n",
              "      <td>3.534515e+08</td>\n",
              "      <td>0.434566</td>\n",
              "      <td>99.917577</td>\n",
              "      <td>130.728901</td>\n",
              "      <td>51.822726</td>\n",
              "      <td>9.611845e+06</td>\n",
              "      <td>6.252602e+10</td>\n",
              "      <td>0</td>\n",
              "    </tr>\n",
              "    <tr>\n",
              "      <th>99996</th>\n",
              "      <td>99996</td>\n",
              "      <td>0.077925</td>\n",
              "      <td>0.062922</td>\n",
              "      <td>0.062563</td>\n",
              "      <td>0.027253</td>\n",
              "      <td>9.904975</td>\n",
              "      <td>0</td>\n",
              "      <td>3.718771</td>\n",
              "      <td>0.977716</td>\n",
              "      <td>3.429971e+19</td>\n",
              "      <td>2</td>\n",
              "      <td>1.608651e+19</td>\n",
              "      <td>4.554238e+08</td>\n",
              "      <td>0.888713</td>\n",
              "      <td>99.902695</td>\n",
              "      <td>114.869008</td>\n",
              "      <td>9.746068</td>\n",
              "      <td>1.099463e+06</td>\n",
              "      <td>4.545773e+10</td>\n",
              "      <td>0</td>\n",
              "    </tr>\n",
              "    <tr>\n",
              "      <th>99997</th>\n",
              "      <td>99997</td>\n",
              "      <td>0.067445</td>\n",
              "      <td>0.019220</td>\n",
              "      <td>0.062666</td>\n",
              "      <td>0.057559</td>\n",
              "      <td>5.389669</td>\n",
              "      <td>2</td>\n",
              "      <td>8.788397</td>\n",
              "      <td>0.374680</td>\n",
              "      <td>4.750184e+19</td>\n",
              "      <td>2</td>\n",
              "      <td>3.021016e+19</td>\n",
              "      <td>2.331046e+08</td>\n",
              "      <td>0.323766</td>\n",
              "      <td>99.910285</td>\n",
              "      <td>458.044080</td>\n",
              "      <td>69.116870</td>\n",
              "      <td>7.473165e+06</td>\n",
              "      <td>7.240109e+10</td>\n",
              "      <td>0</td>\n",
              "    </tr>\n",
              "    <tr>\n",
              "      <th>99998</th>\n",
              "      <td>99998</td>\n",
              "      <td>0.049945</td>\n",
              "      <td>0.065308</td>\n",
              "      <td>0.004765</td>\n",
              "      <td>0.089334</td>\n",
              "      <td>6.984881</td>\n",
              "      <td>2</td>\n",
              "      <td>3.024949</td>\n",
              "      <td>0.926179</td>\n",
              "      <td>3.030606e+19</td>\n",
              "      <td>1</td>\n",
              "      <td>4.217068e+19</td>\n",
              "      <td>2.660837e+08</td>\n",
              "      <td>0.646530</td>\n",
              "      <td>99.984932</td>\n",
              "      <td>342.844863</td>\n",
              "      <td>31.591851</td>\n",
              "      <td>6.759779e+06</td>\n",
              "      <td>7.576517e+10</td>\n",
              "      <td>0</td>\n",
              "    </tr>\n",
              "    <tr>\n",
              "      <th>99999</th>\n",
              "      <td>99999</td>\n",
              "      <td>0.038991</td>\n",
              "      <td>0.000156</td>\n",
              "      <td>0.070408</td>\n",
              "      <td>0.050242</td>\n",
              "      <td>6.640008</td>\n",
              "      <td>2</td>\n",
              "      <td>6.296842</td>\n",
              "      <td>0.885714</td>\n",
              "      <td>7.313929e+19</td>\n",
              "      <td>0</td>\n",
              "      <td>3.560199e+19</td>\n",
              "      <td>4.370338e+08</td>\n",
              "      <td>0.982118</td>\n",
              "      <td>99.978973</td>\n",
              "      <td>478.135341</td>\n",
              "      <td>92.487755</td>\n",
              "      <td>5.169346e+06</td>\n",
              "      <td>9.004981e+10</td>\n",
              "      <td>0</td>\n",
              "    </tr>\n",
              "  </tbody>\n",
              "</table>\n",
              "<p>100000 rows × 20 columns</p>\n",
              "</div>\n",
              "      <button class=\"colab-df-convert\" onclick=\"convertToInteractive('df-5232fa40-c659-4d3c-96d3-20897860b2ef')\"\n",
              "              title=\"Convert this dataframe to an interactive table.\"\n",
              "              style=\"display:none;\">\n",
              "        \n",
              "  <svg xmlns=\"http://www.w3.org/2000/svg\" height=\"24px\"viewBox=\"0 0 24 24\"\n",
              "       width=\"24px\">\n",
              "    <path d=\"M0 0h24v24H0V0z\" fill=\"none\"/>\n",
              "    <path d=\"M18.56 5.44l.94 2.06.94-2.06 2.06-.94-2.06-.94-.94-2.06-.94 2.06-2.06.94zm-11 1L8.5 8.5l.94-2.06 2.06-.94-2.06-.94L8.5 2.5l-.94 2.06-2.06.94zm10 10l.94 2.06.94-2.06 2.06-.94-2.06-.94-.94-2.06-.94 2.06-2.06.94z\"/><path d=\"M17.41 7.96l-1.37-1.37c-.4-.4-.92-.59-1.43-.59-.52 0-1.04.2-1.43.59L10.3 9.45l-7.72 7.72c-.78.78-.78 2.05 0 2.83L4 21.41c.39.39.9.59 1.41.59.51 0 1.02-.2 1.41-.59l7.78-7.78 2.81-2.81c.8-.78.8-2.07 0-2.86zM5.41 20L4 18.59l7.72-7.72 1.47 1.35L5.41 20z\"/>\n",
              "  </svg>\n",
              "      </button>\n",
              "      \n",
              "  <style>\n",
              "    .colab-df-container {\n",
              "      display:flex;\n",
              "      flex-wrap:wrap;\n",
              "      gap: 12px;\n",
              "    }\n",
              "\n",
              "    .colab-df-convert {\n",
              "      background-color: #E8F0FE;\n",
              "      border: none;\n",
              "      border-radius: 50%;\n",
              "      cursor: pointer;\n",
              "      display: none;\n",
              "      fill: #1967D2;\n",
              "      height: 32px;\n",
              "      padding: 0 0 0 0;\n",
              "      width: 32px;\n",
              "    }\n",
              "\n",
              "    .colab-df-convert:hover {\n",
              "      background-color: #E2EBFA;\n",
              "      box-shadow: 0px 1px 2px rgba(60, 64, 67, 0.3), 0px 1px 3px 1px rgba(60, 64, 67, 0.15);\n",
              "      fill: #174EA6;\n",
              "    }\n",
              "\n",
              "    [theme=dark] .colab-df-convert {\n",
              "      background-color: #3B4455;\n",
              "      fill: #D2E3FC;\n",
              "    }\n",
              "\n",
              "    [theme=dark] .colab-df-convert:hover {\n",
              "      background-color: #434B5C;\n",
              "      box-shadow: 0px 1px 3px 1px rgba(0, 0, 0, 0.15);\n",
              "      filter: drop-shadow(0px 1px 2px rgba(0, 0, 0, 0.3));\n",
              "      fill: #FFFFFF;\n",
              "    }\n",
              "  </style>\n",
              "\n",
              "      <script>\n",
              "        const buttonEl =\n",
              "          document.querySelector('#df-5232fa40-c659-4d3c-96d3-20897860b2ef button.colab-df-convert');\n",
              "        buttonEl.style.display =\n",
              "          google.colab.kernel.accessAllowed ? 'block' : 'none';\n",
              "\n",
              "        async function convertToInteractive(key) {\n",
              "          const element = document.querySelector('#df-5232fa40-c659-4d3c-96d3-20897860b2ef');\n",
              "          const dataTable =\n",
              "            await google.colab.kernel.invokeFunction('convertToInteractive',\n",
              "                                                     [key], {});\n",
              "          if (!dataTable) return;\n",
              "\n",
              "          const docLinkHtml = 'Like what you see? Visit the ' +\n",
              "            '<a target=\"_blank\" href=https://colab.research.google.com/notebooks/data_table.ipynb>data table notebook</a>'\n",
              "            + ' to learn more about interactive tables.';\n",
              "          element.innerHTML = '';\n",
              "          dataTable['output_type'] = 'display_data';\n",
              "          await google.colab.output.renderOutput(dataTable, element);\n",
              "          const docLink = document.createElement('div');\n",
              "          docLink.innerHTML = docLinkHtml;\n",
              "          element.appendChild(docLink);\n",
              "        }\n",
              "      </script>\n",
              "    </div>\n",
              "  </div>\n",
              "  "
            ]
          },
          "metadata": {},
          "execution_count": 5
        }
      ],
      "source": [
        "empty_cols = [col for col in df.columns if df[col].isnull().all()]\n",
        "empty_cols\n",
        "from sklearn.preprocessing import LabelEncoder\n",
        "object_features = ['Magnetic Field Configuration', 'Target Composition']\n",
        "\n",
        "# Encode the object features\n",
        "label_encoder = LabelEncoder()\n",
        "for feature in object_features:\n",
        "    df[feature] = label_encoder.fit_transform(df[feature])\n",
        "df"
      ]
    },
    {
      "cell_type": "code",
      "source": [
        "X= df.drop(['Unnamed: 0'],axis=1)\n",
        "y= df['Ignition']"
      ],
      "metadata": {
        "id": "ZBKq-2SWjP50"
      },
      "execution_count": 6,
      "outputs": []
    },
    {
      "cell_type": "markdown",
      "metadata": {
        "id": "vq-Ohsku3_Ga"
      },
      "source": [
        "# Rest of visualization will be on test set\n",
        "### because it takes much time on the whole dataset"
      ]
    },
    {
      "cell_type": "code",
      "execution_count": 7,
      "metadata": {
        "id": "jEX0srG03_Gc"
      },
      "outputs": [],
      "source": [
        "from sklearn.model_selection import train_test_split\n",
        "\n",
        "X_train, X_test, y_train, y_test = train_test_split(X, y, test_size=0.2, random_state=1, stratify=y)\n",
        "\n",
        "del X\n",
        "del y"
      ]
    },
    {
      "cell_type": "code",
      "execution_count": 8,
      "metadata": {
        "id": "EMllg4r03_Gc"
      },
      "outputs": [],
      "source": [
        "from sklearn.preprocessing import LabelEncoder\n",
        "\n",
        "\n",
        "label_encoder = LabelEncoder()\n",
        "y_train =  label_encoder.fit_transform(y_train)\n",
        "y_test = label_encoder.transform(y_test)"
      ]
    },
    {
      "cell_type": "code",
      "execution_count": 9,
      "metadata": {
        "colab": {
          "base_uri": "https://localhost:8080/"
        },
        "id": "XLERoFDj3_Gc",
        "outputId": "02839c1b-4fdf-48c3-ed76-c9a2eb2e9d1c"
      },
      "outputs": [
        {
          "output_type": "execute_result",
          "data": {
            "text/plain": [
              "array([0, 1])"
            ]
          },
          "metadata": {},
          "execution_count": 9
        }
      ],
      "source": [
        "\n",
        "label_encoder.classes_\n"
      ]
    },
    {
      "cell_type": "code",
      "execution_count": 10,
      "metadata": {
        "id": "Aqub8Vuv3_Gd"
      },
      "outputs": [],
      "source": [
        "from sklearn.feature_selection import mutual_info_regression\n",
        "\n",
        "def make_mi_scores(X_feat, y_label):\n",
        "    mi_scores = mutual_info_regression(X_feat, y_label, discrete_features=False)\n",
        "    mi_scores = pd.Series(mi_scores, name=\"MI Scores\", index=X_feat.columns)\n",
        "    mi_scores = mi_scores.sort_values(ascending=False)\n",
        "    return mi_scores\n",
        "\n",
        "#mi_scores = make_mi_scores(X_train, y_train)\n",
        "#mi_scores = make_mi_scores(X_test, y_test)"
      ]
    },
    {
      "cell_type": "code",
      "execution_count": 11,
      "metadata": {
        "id": "9pKwYpQ93_Gd"
      },
      "outputs": [],
      "source": [
        "def plot_utility_scores(scores):\n",
        "    y_scores = scores.sort_values(ascending=True)\n",
        "    width = np.arange(len(y_scores))\n",
        "    ticks = list(y_scores.index)\n",
        "    plt.barh(width, y_scores)\n",
        "    plt.yticks(width, ticks)\n",
        "    plt.title(\"Mutual Information Scores\")\n",
        "\n",
        "\n",
        "#plt.figure(dpi=100, figsize=(50, 50))\n",
        "#plt.xlabel(\"Score\")\n",
        "#plt.ylabel(\"Feature\")\n",
        "#plot_utility_scores(mi_scores)"
      ]
    },
    {
      "cell_type": "code",
      "execution_count": 12,
      "metadata": {
        "id": "uf-grlKC3_Gd"
      },
      "outputs": [],
      "source": [
        "from sklearn.manifold import TSNE\n",
        "import time"
      ]
    },
    {
      "cell_type": "code",
      "execution_count": 13,
      "metadata": {
        "id": "g0Nny9fX3_Gd",
        "outputId": "03e848a0-06ca-452a-e440-6efdd5ced85f",
        "colab": {
          "base_uri": "https://localhost:8080/"
        }
      },
      "outputs": [
        {
          "output_type": "stream",
          "name": "stdout",
          "text": [
            "t-SNE: 0.0001380443572998047 seconds\n"
          ]
        }
      ],
      "source": [
        "time_start = time.time()\n",
        "tsne = TSNE(n_components=2, verbose=0, perplexity=40, n_iter=10)\n",
        "#tsne_results = tsne.fit_transform(X_train)\n",
        "#tsne_results = tsne.fit_transform(X_test)\n",
        "print('t-SNE: {} seconds'.format(time.time()-time_start))"
      ]
    },
    {
      "cell_type": "code",
      "execution_count": 14,
      "metadata": {
        "id": "E7w1z9zC3_Ge",
        "outputId": "9d1e67f0-b45e-4147-c034-1275a611a6f9",
        "colab": {
          "base_uri": "https://localhost:8080/"
        }
      },
      "outputs": [
        {
          "output_type": "execute_result",
          "data": {
            "text/plain": [
              "{0: 0.7153075822603719, 1: 1.6611295681063123}"
            ]
          },
          "metadata": {},
          "execution_count": 14
        }
      ],
      "source": [
        "from sklearn.utils import class_weight\n",
        "\n",
        "class_weights = class_weight.compute_class_weight('balanced',\n",
        "                                                 classes=np.unique(y_train),\n",
        "                                                 y=y_train)\n",
        "\n",
        "class_weights = {k: v for k,v in enumerate(class_weights)}\n",
        "class_weights"
      ]
    },
    {
      "cell_type": "code",
      "execution_count": 15,
      "metadata": {
        "id": "fSlN5zhV3_Ge"
      },
      "outputs": [],
      "source": [
        "# from imblearn.over_sampling import SMOTE\n",
        "\n",
        "# oversample = SMOTE()\n",
        "# X_train, y_train = oversample.fit_resample(X_train, y_train)"
      ]
    },
    {
      "cell_type": "code",
      "execution_count": 15,
      "metadata": {
        "id": "Qhr56wfE3_Gf"
      },
      "outputs": [],
      "source": [
        "from sklearn.preprocessing import MinMaxScaler\n",
        "\n",
        "min_max_scaler = MinMaxScaler()\n",
        "X_train =  min_max_scaler.fit_transform(X_train)\n",
        "X_test = min_max_scaler.transform(X_test)"
      ]
    },
    {
      "cell_type": "code",
      "execution_count": 16,
      "metadata": {
        "id": "MyUhfwon3_Gf"
      },
      "outputs": [],
      "source": [
        "X_train = X_train.reshape(X_train.shape[0], X_train.shape[1], 1)\n",
        "X_test = X_test.reshape(X_test.shape[0], X_test.shape[1], 1)"
      ]
    },
    {
      "cell_type": "code",
      "execution_count": 17,
      "metadata": {
        "id": "roPgP9Qt3_Gf"
      },
      "outputs": [],
      "source": [
        "input_shape = X_train.shape[1:]"
      ]
    },
    {
      "cell_type": "code",
      "execution_count": 18,
      "metadata": {
        "colab": {
          "base_uri": "https://localhost:8080/"
        },
        "id": "yp1KELhP3_Gf",
        "outputId": "3a54fb36-fc57-4529-d87e-82125bef6c5b"
      },
      "outputs": [
        {
          "output_type": "stream",
          "name": "stdout",
          "text": [
            "(80000, 19, 1) (20000, 19, 1)\n",
            "(19, 1)\n"
          ]
        }
      ],
      "source": [
        "print(X_train.shape, X_test.shape)\n",
        "print(input_shape)"
      ]
    },
    {
      "cell_type": "code",
      "execution_count": 19,
      "metadata": {
        "colab": {
          "base_uri": "https://localhost:8080/"
        },
        "id": "N6gAQXE73_Gf",
        "outputId": "859200fc-9c8c-48dc-d6e5-6fd087fd1e81"
      },
      "outputs": [
        {
          "output_type": "execute_result",
          "data": {
            "text/plain": [
              "2"
            ]
          },
          "metadata": {},
          "execution_count": 19
        }
      ],
      "source": [
        "num_classes = len(np.unique(y_train))\n",
        "num_classes"
      ]
    },
    {
      "cell_type": "code",
      "execution_count": 20,
      "metadata": {
        "id": "Ixglik7W3_Gf"
      },
      "outputs": [],
      "source": [
        "from  tensorflow.keras.utils import to_categorical\n",
        "\n",
        "y_train = to_categorical(y_train, num_classes=num_classes)\n",
        "y_test = to_categorical(y_test, num_classes=num_classes)\n",
        "\n",
        "#y_train = y_train.reshape(-1,1)\n",
        "#y_test = y_test.reshape(-1,1)"
      ]
    },
    {
      "cell_type": "code",
      "execution_count": 21,
      "metadata": {
        "colab": {
          "base_uri": "https://localhost:8080/"
        },
        "id": "nCegrz8B3_Gg",
        "outputId": "4463c680-0cc5-4491-8db0-ef27341b8215"
      },
      "outputs": [
        {
          "output_type": "stream",
          "name": "stdout",
          "text": [
            "(80000, 2) (20000, 2)\n"
          ]
        }
      ],
      "source": [
        "print(y_train.shape, y_test.shape)"
      ]
    },
    {
      "cell_type": "markdown",
      "source": [
        "# Transformers"
      ],
      "metadata": {
        "id": "wV5PnVAMIKq8"
      }
    },
    {
      "cell_type": "code",
      "source": [
        "from keras.models import Sequential\n",
        "from keras.layers import LSTM, Dense\n",
        "from keras.callbacks import ModelCheckpoint, EarlyStopping, ReduceLROnPlateau\n",
        "from keras.callbacks import ModelCheckpoint, TensorBoard, ReduceLROnPlateau, CSVLogger\n",
        "# Define the callbacks\n",
        "callbacks = [\n",
        "    ModelCheckpoint(filepath='best_model.h5', monitor='val_loss', save_best_only=True),\n",
        "    TensorBoard(log_dir='logs'),\n",
        "    ReduceLROnPlateau(monitor='val_loss', factor=0.1, patience=5),\n",
        "    CSVLogger('training.log')\n",
        "]\n",
        "\n",
        "\n",
        "import tensorflow as tf\n",
        "from tensorflow.keras.models import Model\n",
        "from tensorflow.keras.layers import Input, Dense, Dropout, LayerNormalization\n",
        "from tensorflow.keras.layers import MultiHeadAttention, Conv1D, GlobalMaxPooling1D\n",
        "from tensorflow.keras.optimizers import Adam\n",
        "\n",
        "# Define input shape\n",
        "input_shape = (19, 1)\n",
        "\n",
        "# Define the Transformer model\n",
        "def build_transformer_model(input_shape, num_classes):\n",
        "    inputs = Input(shape=input_shape)\n",
        "    x = Conv1D(64, 3, activation='relu', padding='same')(inputs)\n",
        "    x = Conv1D(64, 3, activation='relu', padding='same')(x)\n",
        "    x = Conv1D(64, 3, activation='relu', padding='same')(x)\n",
        "\n",
        "    # MultiHeadAttention layer with query, key, and value inputs\n",
        "    attention = MultiHeadAttention(num_heads=4, key_dim=32)(x, x, x)\n",
        "\n",
        "    x = Dropout(0.2)(attention)\n",
        "    x = LayerNormalization()(x)\n",
        "    x = Conv1D(128, 3, activation='relu', padding='same')(x)\n",
        "    x = Conv1D(128, 3, activation='relu', padding='same')(x)\n",
        "    x = Conv1D(128, 3, activation='relu', padding='same')(x)\n",
        "    x = GlobalMaxPooling1D()(x)\n",
        "    x = Dropout(0.2)(x)\n",
        "    x = Dense(64, activation='relu')(x)\n",
        "    x = Dense(num_classes, activation='softmax')(x)\n",
        "\n",
        "    model = Model(inputs=inputs, outputs=x)\n",
        "    return model\n",
        "\n",
        "# Create an instance of the Transformer model\n",
        "model = build_transformer_model(input_shape, num_classes)\n",
        "\n",
        "# Compile the model\n",
        "optimizer = Adam(learning_rate=0.001)\n",
        "model.compile(optimizer=optimizer, loss='categorical_crossentropy', metrics=['accuracy'])\n",
        "\n",
        "# Train the model\n",
        "history = model.fit(X_train, y_train, validation_data=(X_test, y_test), epochs=1, batch_size=512, callbacks=callbacks)\n"
      ],
      "metadata": {
        "colab": {
          "base_uri": "https://localhost:8080/",
          "height": 397
        },
        "id": "oMo3AjQLIMzD",
        "outputId": "f93e860f-358f-4524-de9a-cd2cb0204902"
      },
      "execution_count": 22,
      "outputs": [
        {
          "output_type": "stream",
          "name": "stdout",
          "text": [
            " 39/157 [======>.......................] - ETA: 46s - loss: 0.5047 - accuracy: 0.7486"
          ]
        },
        {
          "output_type": "error",
          "ename": "KeyboardInterrupt",
          "evalue": "ignored",
          "traceback": [
            "\u001b[0;31m---------------------------------------------------------------------------\u001b[0m",
            "\u001b[0;31mKeyboardInterrupt\u001b[0m                         Traceback (most recent call last)",
            "\u001b[0;32m<ipython-input-22-7da32aa7ea05>\u001b[0m in \u001b[0;36m<cell line: 54>\u001b[0;34m()\u001b[0m\n\u001b[1;32m     52\u001b[0m \u001b[0;34m\u001b[0m\u001b[0m\n\u001b[1;32m     53\u001b[0m \u001b[0;31m# Train the model\u001b[0m\u001b[0;34m\u001b[0m\u001b[0;34m\u001b[0m\u001b[0m\n\u001b[0;32m---> 54\u001b[0;31m \u001b[0mhistory\u001b[0m \u001b[0;34m=\u001b[0m \u001b[0mmodel\u001b[0m\u001b[0;34m.\u001b[0m\u001b[0mfit\u001b[0m\u001b[0;34m(\u001b[0m\u001b[0mX_train\u001b[0m\u001b[0;34m,\u001b[0m \u001b[0my_train\u001b[0m\u001b[0;34m,\u001b[0m \u001b[0mvalidation_data\u001b[0m\u001b[0;34m=\u001b[0m\u001b[0;34m(\u001b[0m\u001b[0mX_test\u001b[0m\u001b[0;34m,\u001b[0m \u001b[0my_test\u001b[0m\u001b[0;34m)\u001b[0m\u001b[0;34m,\u001b[0m \u001b[0mepochs\u001b[0m\u001b[0;34m=\u001b[0m\u001b[0;36m1\u001b[0m\u001b[0;34m,\u001b[0m \u001b[0mbatch_size\u001b[0m\u001b[0;34m=\u001b[0m\u001b[0;36m512\u001b[0m\u001b[0;34m,\u001b[0m \u001b[0mcallbacks\u001b[0m\u001b[0;34m=\u001b[0m\u001b[0mcallbacks\u001b[0m\u001b[0;34m)\u001b[0m\u001b[0;34m\u001b[0m\u001b[0;34m\u001b[0m\u001b[0m\n\u001b[0m",
            "\u001b[0;32m/usr/local/lib/python3.10/dist-packages/keras/utils/traceback_utils.py\u001b[0m in \u001b[0;36merror_handler\u001b[0;34m(*args, **kwargs)\u001b[0m\n\u001b[1;32m     63\u001b[0m         \u001b[0mfiltered_tb\u001b[0m \u001b[0;34m=\u001b[0m \u001b[0;32mNone\u001b[0m\u001b[0;34m\u001b[0m\u001b[0;34m\u001b[0m\u001b[0m\n\u001b[1;32m     64\u001b[0m         \u001b[0;32mtry\u001b[0m\u001b[0;34m:\u001b[0m\u001b[0;34m\u001b[0m\u001b[0;34m\u001b[0m\u001b[0m\n\u001b[0;32m---> 65\u001b[0;31m             \u001b[0;32mreturn\u001b[0m \u001b[0mfn\u001b[0m\u001b[0;34m(\u001b[0m\u001b[0;34m*\u001b[0m\u001b[0margs\u001b[0m\u001b[0;34m,\u001b[0m \u001b[0;34m**\u001b[0m\u001b[0mkwargs\u001b[0m\u001b[0;34m)\u001b[0m\u001b[0;34m\u001b[0m\u001b[0;34m\u001b[0m\u001b[0m\n\u001b[0m\u001b[1;32m     66\u001b[0m         \u001b[0;32mexcept\u001b[0m \u001b[0mException\u001b[0m \u001b[0;32mas\u001b[0m \u001b[0me\u001b[0m\u001b[0;34m:\u001b[0m\u001b[0;34m\u001b[0m\u001b[0;34m\u001b[0m\u001b[0m\n\u001b[1;32m     67\u001b[0m             \u001b[0mfiltered_tb\u001b[0m \u001b[0;34m=\u001b[0m \u001b[0m_process_traceback_frames\u001b[0m\u001b[0;34m(\u001b[0m\u001b[0me\u001b[0m\u001b[0;34m.\u001b[0m\u001b[0m__traceback__\u001b[0m\u001b[0;34m)\u001b[0m\u001b[0;34m\u001b[0m\u001b[0;34m\u001b[0m\u001b[0m\n",
            "\u001b[0;32m/usr/local/lib/python3.10/dist-packages/keras/engine/training.py\u001b[0m in \u001b[0;36mfit\u001b[0;34m(self, x, y, batch_size, epochs, verbose, callbacks, validation_split, validation_data, shuffle, class_weight, sample_weight, initial_epoch, steps_per_epoch, validation_steps, validation_batch_size, validation_freq, max_queue_size, workers, use_multiprocessing)\u001b[0m\n\u001b[1;32m   1683\u001b[0m                         ):\n\u001b[1;32m   1684\u001b[0m                             \u001b[0mcallbacks\u001b[0m\u001b[0;34m.\u001b[0m\u001b[0mon_train_batch_begin\u001b[0m\u001b[0;34m(\u001b[0m\u001b[0mstep\u001b[0m\u001b[0;34m)\u001b[0m\u001b[0;34m\u001b[0m\u001b[0;34m\u001b[0m\u001b[0m\n\u001b[0;32m-> 1685\u001b[0;31m                             \u001b[0mtmp_logs\u001b[0m \u001b[0;34m=\u001b[0m \u001b[0mself\u001b[0m\u001b[0;34m.\u001b[0m\u001b[0mtrain_function\u001b[0m\u001b[0;34m(\u001b[0m\u001b[0miterator\u001b[0m\u001b[0;34m)\u001b[0m\u001b[0;34m\u001b[0m\u001b[0;34m\u001b[0m\u001b[0m\n\u001b[0m\u001b[1;32m   1686\u001b[0m                             \u001b[0;32mif\u001b[0m \u001b[0mdata_handler\u001b[0m\u001b[0;34m.\u001b[0m\u001b[0mshould_sync\u001b[0m\u001b[0;34m:\u001b[0m\u001b[0;34m\u001b[0m\u001b[0;34m\u001b[0m\u001b[0m\n\u001b[1;32m   1687\u001b[0m                                 \u001b[0mcontext\u001b[0m\u001b[0;34m.\u001b[0m\u001b[0masync_wait\u001b[0m\u001b[0;34m(\u001b[0m\u001b[0;34m)\u001b[0m\u001b[0;34m\u001b[0m\u001b[0;34m\u001b[0m\u001b[0m\n",
            "\u001b[0;32m/usr/local/lib/python3.10/dist-packages/tensorflow/python/util/traceback_utils.py\u001b[0m in \u001b[0;36merror_handler\u001b[0;34m(*args, **kwargs)\u001b[0m\n\u001b[1;32m    148\u001b[0m     \u001b[0mfiltered_tb\u001b[0m \u001b[0;34m=\u001b[0m \u001b[0;32mNone\u001b[0m\u001b[0;34m\u001b[0m\u001b[0;34m\u001b[0m\u001b[0m\n\u001b[1;32m    149\u001b[0m     \u001b[0;32mtry\u001b[0m\u001b[0;34m:\u001b[0m\u001b[0;34m\u001b[0m\u001b[0;34m\u001b[0m\u001b[0m\n\u001b[0;32m--> 150\u001b[0;31m       \u001b[0;32mreturn\u001b[0m \u001b[0mfn\u001b[0m\u001b[0;34m(\u001b[0m\u001b[0;34m*\u001b[0m\u001b[0margs\u001b[0m\u001b[0;34m,\u001b[0m \u001b[0;34m**\u001b[0m\u001b[0mkwargs\u001b[0m\u001b[0;34m)\u001b[0m\u001b[0;34m\u001b[0m\u001b[0;34m\u001b[0m\u001b[0m\n\u001b[0m\u001b[1;32m    151\u001b[0m     \u001b[0;32mexcept\u001b[0m \u001b[0mException\u001b[0m \u001b[0;32mas\u001b[0m \u001b[0me\u001b[0m\u001b[0;34m:\u001b[0m\u001b[0;34m\u001b[0m\u001b[0;34m\u001b[0m\u001b[0m\n\u001b[1;32m    152\u001b[0m       \u001b[0mfiltered_tb\u001b[0m \u001b[0;34m=\u001b[0m \u001b[0m_process_traceback_frames\u001b[0m\u001b[0;34m(\u001b[0m\u001b[0me\u001b[0m\u001b[0;34m.\u001b[0m\u001b[0m__traceback__\u001b[0m\u001b[0;34m)\u001b[0m\u001b[0;34m\u001b[0m\u001b[0;34m\u001b[0m\u001b[0m\n",
            "\u001b[0;32m/usr/local/lib/python3.10/dist-packages/tensorflow/python/eager/polymorphic_function/polymorphic_function.py\u001b[0m in \u001b[0;36m__call__\u001b[0;34m(self, *args, **kwds)\u001b[0m\n\u001b[1;32m    892\u001b[0m \u001b[0;34m\u001b[0m\u001b[0m\n\u001b[1;32m    893\u001b[0m       \u001b[0;32mwith\u001b[0m \u001b[0mOptionalXlaContext\u001b[0m\u001b[0;34m(\u001b[0m\u001b[0mself\u001b[0m\u001b[0;34m.\u001b[0m\u001b[0m_jit_compile\u001b[0m\u001b[0;34m)\u001b[0m\u001b[0;34m:\u001b[0m\u001b[0;34m\u001b[0m\u001b[0;34m\u001b[0m\u001b[0m\n\u001b[0;32m--> 894\u001b[0;31m         \u001b[0mresult\u001b[0m \u001b[0;34m=\u001b[0m \u001b[0mself\u001b[0m\u001b[0;34m.\u001b[0m\u001b[0m_call\u001b[0m\u001b[0;34m(\u001b[0m\u001b[0;34m*\u001b[0m\u001b[0margs\u001b[0m\u001b[0;34m,\u001b[0m \u001b[0;34m**\u001b[0m\u001b[0mkwds\u001b[0m\u001b[0;34m)\u001b[0m\u001b[0;34m\u001b[0m\u001b[0;34m\u001b[0m\u001b[0m\n\u001b[0m\u001b[1;32m    895\u001b[0m \u001b[0;34m\u001b[0m\u001b[0m\n\u001b[1;32m    896\u001b[0m       \u001b[0mnew_tracing_count\u001b[0m \u001b[0;34m=\u001b[0m \u001b[0mself\u001b[0m\u001b[0;34m.\u001b[0m\u001b[0mexperimental_get_tracing_count\u001b[0m\u001b[0;34m(\u001b[0m\u001b[0;34m)\u001b[0m\u001b[0;34m\u001b[0m\u001b[0;34m\u001b[0m\u001b[0m\n",
            "\u001b[0;32m/usr/local/lib/python3.10/dist-packages/tensorflow/python/eager/polymorphic_function/polymorphic_function.py\u001b[0m in \u001b[0;36m_call\u001b[0;34m(self, *args, **kwds)\u001b[0m\n\u001b[1;32m    924\u001b[0m       \u001b[0;31m# In this case we have created variables on the first call, so we run the\u001b[0m\u001b[0;34m\u001b[0m\u001b[0;34m\u001b[0m\u001b[0m\n\u001b[1;32m    925\u001b[0m       \u001b[0;31m# defunned version which is guaranteed to never create variables.\u001b[0m\u001b[0;34m\u001b[0m\u001b[0;34m\u001b[0m\u001b[0m\n\u001b[0;32m--> 926\u001b[0;31m       \u001b[0;32mreturn\u001b[0m \u001b[0mself\u001b[0m\u001b[0;34m.\u001b[0m\u001b[0m_no_variable_creation_fn\u001b[0m\u001b[0;34m(\u001b[0m\u001b[0;34m*\u001b[0m\u001b[0margs\u001b[0m\u001b[0;34m,\u001b[0m \u001b[0;34m**\u001b[0m\u001b[0mkwds\u001b[0m\u001b[0;34m)\u001b[0m  \u001b[0;31m# pylint: disable=not-callable\u001b[0m\u001b[0;34m\u001b[0m\u001b[0;34m\u001b[0m\u001b[0m\n\u001b[0m\u001b[1;32m    927\u001b[0m     \u001b[0;32melif\u001b[0m \u001b[0mself\u001b[0m\u001b[0;34m.\u001b[0m\u001b[0m_variable_creation_fn\u001b[0m \u001b[0;32mis\u001b[0m \u001b[0;32mnot\u001b[0m \u001b[0;32mNone\u001b[0m\u001b[0;34m:\u001b[0m\u001b[0;34m\u001b[0m\u001b[0;34m\u001b[0m\u001b[0m\n\u001b[1;32m    928\u001b[0m       \u001b[0;31m# Release the lock early so that multiple threads can perform the call\u001b[0m\u001b[0;34m\u001b[0m\u001b[0;34m\u001b[0m\u001b[0m\n",
            "\u001b[0;32m/usr/local/lib/python3.10/dist-packages/tensorflow/python/eager/polymorphic_function/tracing_compiler.py\u001b[0m in \u001b[0;36m__call__\u001b[0;34m(self, *args, **kwargs)\u001b[0m\n\u001b[1;32m    141\u001b[0m       (concrete_function,\n\u001b[1;32m    142\u001b[0m        filtered_flat_args) = self._maybe_define_function(args, kwargs)\n\u001b[0;32m--> 143\u001b[0;31m     return concrete_function._call_flat(\n\u001b[0m\u001b[1;32m    144\u001b[0m         filtered_flat_args, captured_inputs=concrete_function.captured_inputs)  # pylint: disable=protected-access\n\u001b[1;32m    145\u001b[0m \u001b[0;34m\u001b[0m\u001b[0m\n",
            "\u001b[0;32m/usr/local/lib/python3.10/dist-packages/tensorflow/python/eager/polymorphic_function/monomorphic_function.py\u001b[0m in \u001b[0;36m_call_flat\u001b[0;34m(self, args, captured_inputs, cancellation_manager)\u001b[0m\n\u001b[1;32m   1755\u001b[0m         and executing_eagerly):\n\u001b[1;32m   1756\u001b[0m       \u001b[0;31m# No tape is watching; skip to running the function.\u001b[0m\u001b[0;34m\u001b[0m\u001b[0;34m\u001b[0m\u001b[0m\n\u001b[0;32m-> 1757\u001b[0;31m       return self._build_call_outputs(self._inference_function.call(\n\u001b[0m\u001b[1;32m   1758\u001b[0m           ctx, args, cancellation_manager=cancellation_manager))\n\u001b[1;32m   1759\u001b[0m     forward_backward = self._select_forward_and_backward_functions(\n",
            "\u001b[0;32m/usr/local/lib/python3.10/dist-packages/tensorflow/python/eager/polymorphic_function/monomorphic_function.py\u001b[0m in \u001b[0;36mcall\u001b[0;34m(self, ctx, args, cancellation_manager)\u001b[0m\n\u001b[1;32m    379\u001b[0m       \u001b[0;32mwith\u001b[0m \u001b[0m_InterpolateFunctionError\u001b[0m\u001b[0;34m(\u001b[0m\u001b[0mself\u001b[0m\u001b[0;34m)\u001b[0m\u001b[0;34m:\u001b[0m\u001b[0;34m\u001b[0m\u001b[0;34m\u001b[0m\u001b[0m\n\u001b[1;32m    380\u001b[0m         \u001b[0;32mif\u001b[0m \u001b[0mcancellation_manager\u001b[0m \u001b[0;32mis\u001b[0m \u001b[0;32mNone\u001b[0m\u001b[0;34m:\u001b[0m\u001b[0;34m\u001b[0m\u001b[0;34m\u001b[0m\u001b[0m\n\u001b[0;32m--> 381\u001b[0;31m           outputs = execute.execute(\n\u001b[0m\u001b[1;32m    382\u001b[0m               \u001b[0mstr\u001b[0m\u001b[0;34m(\u001b[0m\u001b[0mself\u001b[0m\u001b[0;34m.\u001b[0m\u001b[0msignature\u001b[0m\u001b[0;34m.\u001b[0m\u001b[0mname\u001b[0m\u001b[0;34m)\u001b[0m\u001b[0;34m,\u001b[0m\u001b[0;34m\u001b[0m\u001b[0;34m\u001b[0m\u001b[0m\n\u001b[1;32m    383\u001b[0m               \u001b[0mnum_outputs\u001b[0m\u001b[0;34m=\u001b[0m\u001b[0mself\u001b[0m\u001b[0;34m.\u001b[0m\u001b[0m_num_outputs\u001b[0m\u001b[0;34m,\u001b[0m\u001b[0;34m\u001b[0m\u001b[0;34m\u001b[0m\u001b[0m\n",
            "\u001b[0;32m/usr/local/lib/python3.10/dist-packages/tensorflow/python/eager/execute.py\u001b[0m in \u001b[0;36mquick_execute\u001b[0;34m(op_name, num_outputs, inputs, attrs, ctx, name)\u001b[0m\n\u001b[1;32m     50\u001b[0m   \u001b[0;32mtry\u001b[0m\u001b[0;34m:\u001b[0m\u001b[0;34m\u001b[0m\u001b[0;34m\u001b[0m\u001b[0m\n\u001b[1;32m     51\u001b[0m     \u001b[0mctx\u001b[0m\u001b[0;34m.\u001b[0m\u001b[0mensure_initialized\u001b[0m\u001b[0;34m(\u001b[0m\u001b[0;34m)\u001b[0m\u001b[0;34m\u001b[0m\u001b[0;34m\u001b[0m\u001b[0m\n\u001b[0;32m---> 52\u001b[0;31m     tensors = pywrap_tfe.TFE_Py_Execute(ctx._handle, device_name, op_name,\n\u001b[0m\u001b[1;32m     53\u001b[0m                                         inputs, attrs, num_outputs)\n\u001b[1;32m     54\u001b[0m   \u001b[0;32mexcept\u001b[0m \u001b[0mcore\u001b[0m\u001b[0;34m.\u001b[0m\u001b[0m_NotOkStatusException\u001b[0m \u001b[0;32mas\u001b[0m \u001b[0me\u001b[0m\u001b[0;34m:\u001b[0m\u001b[0;34m\u001b[0m\u001b[0;34m\u001b[0m\u001b[0m\n",
            "\u001b[0;31mKeyboardInterrupt\u001b[0m: "
          ]
        }
      ]
    },
    {
      "cell_type": "code",
      "execution_count": 23,
      "metadata": {
        "id": "zZNmO1lb3_Gg"
      },
      "outputs": [],
      "source": [
        "from tensorflow.keras.datasets import mnist\n",
        "from tensorflow.keras.utils import to_categorical\n",
        "from tensorflow.keras.models import Sequential\n",
        "from tensorflow.keras.layers import Dense, SimpleRNN, Flatten\n",
        "from tensorflow.keras.optimizers import Adam\n",
        "from sklearn.metrics import roc_curve, auc\n",
        "from itertools import cycle\n",
        "import matplotlib.pyplot as plt\n",
        "import numpy as np\n",
        "import pandas as pd\n",
        "from sklearn.metrics import accuracy_score, precision_recall_fscore_support, confusion_matrix, classification_report, precision_score, recall_score, f1_score\n",
        "import seaborn as sn\n",
        "from sklearn.preprocessing import LabelEncoder"
      ]
    },
    {
      "cell_type": "code",
      "execution_count": 24,
      "metadata": {
        "id": "cZijzkG83_Gg"
      },
      "outputs": [],
      "source": [
        "def ROC_plot(y_true_ohe, y_hat_ohe, label_encoder, n_classes):\n",
        "    lw = 2\n",
        "    fpr = dict()\n",
        "    tpr = dict()\n",
        "    roc_auc = dict()\n",
        "    for i in range(n_classes):\n",
        "        fpr[i], tpr[i], _ = roc_curve(y_true_ohe[:, i], y_hat_ohe[:, i])\n",
        "        roc_auc[i] = auc(fpr[i], tpr[i])\n",
        "\n",
        "    all_fpr = np.unique(np.concatenate([fpr[i] for i in range(n_classes)]))\n",
        "    mean_tpr = np.zeros_like(all_fpr)\n",
        "    for i in range(n_classes):\n",
        "        mean_tpr += np.interp(all_fpr, fpr[i], tpr[i])\n",
        "    mean_tpr /= n_classes\n",
        "    fpr[\"macro\"] = all_fpr\n",
        "    tpr[\"macro\"] = mean_tpr\n",
        "    roc_auc[\"macro\"] = auc(fpr[\"macro\"], tpr[\"macro\"])\n",
        "    fpr[\"micro\"], tpr[\"micro\"], _ = roc_curve(y_true_ohe.ravel(), y_hat_ohe.ravel())\n",
        "    roc_auc[\"micro\"] = auc(fpr[\"micro\"], tpr[\"micro\"])\n",
        "\n",
        "    plt.figure(figsize=(20, 20))\n",
        "    plt.plot(\n",
        "        fpr[\"micro\"],\n",
        "        tpr[\"micro\"],\n",
        "        label=\"micro-average ROC curve (area = {0:0.2f})\".format(roc_auc[\"micro\"]),\n",
        "        color=\"deeppink\",\n",
        "        linestyle=\":\",\n",
        "        linewidth=4,\n",
        "    )\n",
        "    plt.plot(\n",
        "        fpr[\"macro\"],\n",
        "        tpr[\"macro\"],\n",
        "        label=\"macro-average ROC curve (area = {0:0.2f})\".format(roc_auc[\"macro\"]),\n",
        "        color=\"navy\",\n",
        "        linestyle=\":\",\n",
        "        linewidth=4,\n",
        "    )\n",
        "    colors = cycle([\"aqua\", \"darkorange\", \"cornflowerblue\"])\n",
        "    for i, color in zip(range(n_classes), colors):\n",
        "        plt.plot(\n",
        "            fpr[i],\n",
        "            tpr[i],\n",
        "            color=color,\n",
        "            lw=lw,\n",
        "            label=\"ROC curve of class {0} (area = {1:0.2f})\".format(label_encoder.classes_[i], roc_auc[i]))\n",
        "    plt.plot([0, 1], [0, 1], \"k--\", lw=lw)\n",
        "    plt.xlim([0.0, 1.0])\n",
        "    plt.ylim([0.0, 1.05])\n",
        "    plt.xlabel(\"False Positive Rate\")\n",
        "    plt.ylabel(\"True Positive Rate\")\n",
        "    plt.title(\"multiclass characteristic\")\n",
        "    plt.legend(loc=\"lower right\")\n",
        "    plt.show()"
      ]
    },
    {
      "cell_type": "code",
      "execution_count": 25,
      "metadata": {
        "id": "GG_qPBTP3_Gh"
      },
      "outputs": [],
      "source": [
        "from sklearn.metrics import accuracy_score, precision_recall_fscore_support,confusion_matrix, classification_report, precision_score, recall_score\n",
        "from sklearn.metrics import f1_score as f1_score_rep\n",
        "import seaborn as sn\n",
        "target= label_encoder.classes_.tolist()\n",
        "target = list(map(str, target))\n",
        "def print_score(y_pred, y_real, label_encoder):\n",
        "    print(\"Accuracy: \", accuracy_score(y_real, y_pred))\n",
        "    print(\"Precision: \", precision_score(y_real, y_pred, average=\"micro\"))\n",
        "    print(\"Recall: \", recall_score(y_real, y_pred, average=\"micro\"))\n",
        "    print(\"F1 Score: \", f1_score(y_real, y_pred))\n",
        "    print()\n",
        "    print(\"Macro Precision, Recall, F1 Score, and Support (macro average)\")\n",
        "    print(precision_recall_fscore_support(y_real, y_pred, average=\"macro\"))\n",
        "    print()\n",
        "    print(\"Macro Precision, Recall, F1 Score, and Support (micro average)\")\n",
        "    print(precision_recall_fscore_support(y_real, y_pred, average=\"micro\"))\n",
        "    print()\n",
        "    print(\"Macro Precision, Recall, F1 Score, and Support (weighted average)\")\n",
        "    print(precision_recall_fscore_support(y_real, y_pred, average=\"weighted\"))\n",
        "\n",
        "    print()\n",
        "    print(\"Confusion Matrix\")\n",
        "    cm = confusion_matrix(y_real, y_pred)\n",
        "    cm = cm.astype(\"float\") / cm.sum(axis=1)[:, np.newaxis]\n",
        "    df_cm = pd.DataFrame(\n",
        "        cm,\n",
        "        index=[i for i in label_encoder.classes_],\n",
        "        columns=[i for i in label_encoder.classes_],\n",
        "    )\n",
        "    plt.figure(figsize=(10, 7))\n",
        "    sn.heatmap(df_cm, annot=True)\n",
        "    plt.show()\n",
        "\n",
        "    print()\n",
        "    print(\"Classification Report\")\n",
        "    print(\n",
        "\n",
        "        classification_report(\n",
        "            y_real, y_pred, target_names=target\n",
        "        )\n",
        "    )\n",
        "from sklearn.metrics import accuracy_score, precision_recall_fscore_support,confusion_matrix, classification_report, precision_score, recall_score\n",
        "from sklearn.metrics import f1_score as f1_score_rep\n",
        "import seaborn as sn\n",
        "target= label_encoder.classes_.tolist()\n",
        "target = list(map(str, target))\n",
        "def print_score(y_pred, y_real, label_encoder):\n",
        "    print(\"Accuracy: \", accuracy_score(y_real, y_pred))\n",
        "    print(\"Precision: \", precision_score(y_real, y_pred, average=\"micro\"))\n",
        "    print(\"Recall: \", recall_score(y_real, y_pred, average=\"micro\"))\n",
        "    print(\"F1 Score: \", f1_score(y_real, y_pred))\n",
        "    print()\n",
        "    print(\"Macro Precision, Recall, F1 Score, and Support (macro average)\")\n",
        "    print(precision_recall_fscore_support(y_real, y_pred, average=\"macro\"))\n",
        "    print()\n",
        "    print(\"Macro Precision, Recall, F1 Score, and Support (micro average)\")\n",
        "    print(precision_recall_fscore_support(y_real, y_pred, average=\"micro\"))\n",
        "    print()\n",
        "    print(\"Macro Precision, Recall, F1 Score, and Support (weighted average)\")\n",
        "    print(precision_recall_fscore_support(y_real, y_pred, average=\"weighted\"))\n",
        "\n",
        "    print()\n",
        "    print(\"Confusion Matrix\")\n",
        "    cm = confusion_matrix(y_real, y_pred)\n",
        "    cm = cm.astype(\"float\") / cm.sum(axis=1)[:, np.newaxis]\n",
        "    df_cm = pd.DataFrame(\n",
        "        cm,\n",
        "        index=[i for i in label_encoder.classes_],\n",
        "        columns=[i for i in label_encoder.classes_],\n",
        "    )\n",
        "    plt.figure(figsize=(10, 7))\n",
        "    sn.heatmap(df_cm, annot=True)\n",
        "    plt.show()\n",
        "\n",
        "    print()\n",
        "    print(\"Classification Report\")\n",
        "    print(\n",
        "\n",
        "        classification_report(\n",
        "            y_real, y_pred, target_names=target\n",
        "        )\n",
        "    )\n"
      ]
    },
    {
      "cell_type": "code",
      "execution_count": 26,
      "metadata": {
        "colab": {
          "base_uri": "https://localhost:8080/"
        },
        "id": "aI70mcRX3_Gh",
        "outputId": "c5a47cb4-6785-44e5-94de-f958e4bb48e3"
      },
      "outputs": [
        {
          "output_type": "stream",
          "name": "stdout",
          "text": [
            "Looking in indexes: https://pypi.org/simple, https://us-python.pkg.dev/colab-wheels/public/simple/\n",
            "Collecting livelossplot\n",
            "  Downloading livelossplot-0.5.5-py3-none-any.whl (22 kB)\n",
            "Requirement already satisfied: matplotlib in /usr/local/lib/python3.10/dist-packages (from livelossplot) (3.7.1)\n",
            "Requirement already satisfied: bokeh in /usr/local/lib/python3.10/dist-packages (from livelossplot) (2.4.3)\n",
            "Requirement already satisfied: Jinja2>=2.9 in /usr/local/lib/python3.10/dist-packages (from bokeh->livelossplot) (3.1.2)\n",
            "Requirement already satisfied: numpy>=1.11.3 in /usr/local/lib/python3.10/dist-packages (from bokeh->livelossplot) (1.22.4)\n",
            "Requirement already satisfied: packaging>=16.8 in /usr/local/lib/python3.10/dist-packages (from bokeh->livelossplot) (23.1)\n",
            "Requirement already satisfied: pillow>=7.1.0 in /usr/local/lib/python3.10/dist-packages (from bokeh->livelossplot) (8.4.0)\n",
            "Requirement already satisfied: PyYAML>=3.10 in /usr/local/lib/python3.10/dist-packages (from bokeh->livelossplot) (6.0)\n",
            "Requirement already satisfied: tornado>=5.1 in /usr/local/lib/python3.10/dist-packages (from bokeh->livelossplot) (6.3.1)\n",
            "Requirement already satisfied: typing-extensions>=3.10.0 in /usr/local/lib/python3.10/dist-packages (from bokeh->livelossplot) (4.5.0)\n",
            "Requirement already satisfied: contourpy>=1.0.1 in /usr/local/lib/python3.10/dist-packages (from matplotlib->livelossplot) (1.0.7)\n",
            "Requirement already satisfied: cycler>=0.10 in /usr/local/lib/python3.10/dist-packages (from matplotlib->livelossplot) (0.11.0)\n",
            "Requirement already satisfied: fonttools>=4.22.0 in /usr/local/lib/python3.10/dist-packages (from matplotlib->livelossplot) (4.39.3)\n",
            "Requirement already satisfied: kiwisolver>=1.0.1 in /usr/local/lib/python3.10/dist-packages (from matplotlib->livelossplot) (1.4.4)\n",
            "Requirement already satisfied: pyparsing>=2.3.1 in /usr/local/lib/python3.10/dist-packages (from matplotlib->livelossplot) (3.0.9)\n",
            "Requirement already satisfied: python-dateutil>=2.7 in /usr/local/lib/python3.10/dist-packages (from matplotlib->livelossplot) (2.8.2)\n",
            "Requirement already satisfied: MarkupSafe>=2.0 in /usr/local/lib/python3.10/dist-packages (from Jinja2>=2.9->bokeh->livelossplot) (2.1.2)\n",
            "Requirement already satisfied: six>=1.5 in /usr/local/lib/python3.10/dist-packages (from python-dateutil>=2.7->matplotlib->livelossplot) (1.16.0)\n",
            "Installing collected packages: livelossplot\n",
            "Successfully installed livelossplot-0.5.5\n"
          ]
        }
      ],
      "source": [
        "!pip install livelossplot"
      ]
    },
    {
      "cell_type": "code",
      "execution_count": 28,
      "metadata": {
        "id": "Qr4GBXxK3_Gi"
      },
      "outputs": [],
      "source": [
        "from keras.callbacks import ModelCheckpoint, EarlyStopping, ReduceLROnPlateau\n",
        "from livelossplot import PlotLossesKeras\n",
        "\n",
        "\n",
        "model_weights_file_path = \"model_best_weights.h5\"\n",
        "checkpoint = ModelCheckpoint(filepath=model_weights_file_path, monitor=\"val_loss\", verbose=1, save_best_only=True, mode=\"min\", save_weights_only=True)\n",
        "early_stopping = EarlyStopping(monitor=\"val_loss\", mode=\"min\", verbose=1, patience=10)\n",
        "lr_reduce = ReduceLROnPlateau(monitor='val_loss', factor=0.5, patience=5, mode=\"min\", verbose=1, min_lr=0)\n",
        "plotlosses = PlotLossesKeras()\n",
        "\n",
        "call_backs = [checkpoint, early_stopping, lr_reduce, plotlosses]"
      ]
    },
    {
      "cell_type": "code",
      "execution_count": 29,
      "metadata": {
        "colab": {
          "base_uri": "https://localhost:8080/"
        },
        "id": "no_ijg1h3_Gj",
        "outputId": "22b14f15-3b1f-4b27-ae6a-3da423e47c9f"
      },
      "outputs": [
        {
          "output_type": "stream",
          "name": "stdout",
          "text": [
            "(80000, 2)\n"
          ]
        }
      ],
      "source": [
        "print(y_train.shape)\n"
      ]
    },
    {
      "cell_type": "code",
      "execution_count": 30,
      "metadata": {
        "colab": {
          "base_uri": "https://localhost:8080/"
        },
        "id": "5duGnblM3_Gj",
        "outputId": "f13f58ee-54d9-4ccc-bcad-bd56939a4684"
      },
      "outputs": [
        {
          "output_type": "stream",
          "name": "stdout",
          "text": [
            "Looking in indexes: https://pypi.org/simple, https://us-python.pkg.dev/colab-wheels/public/simple/\n",
            "Requirement already satisfied: gdown in /usr/local/lib/python3.10/dist-packages (4.6.6)\n",
            "Requirement already satisfied: filelock in /usr/local/lib/python3.10/dist-packages (from gdown) (3.12.0)\n",
            "Requirement already satisfied: requests[socks] in /usr/local/lib/python3.10/dist-packages (from gdown) (2.27.1)\n",
            "Requirement already satisfied: six in /usr/local/lib/python3.10/dist-packages (from gdown) (1.16.0)\n",
            "Requirement already satisfied: tqdm in /usr/local/lib/python3.10/dist-packages (from gdown) (4.65.0)\n",
            "Requirement already satisfied: beautifulsoup4 in /usr/local/lib/python3.10/dist-packages (from gdown) (4.11.2)\n",
            "Requirement already satisfied: soupsieve>1.2 in /usr/local/lib/python3.10/dist-packages (from beautifulsoup4->gdown) (2.4.1)\n",
            "Requirement already satisfied: urllib3<1.27,>=1.21.1 in /usr/local/lib/python3.10/dist-packages (from requests[socks]->gdown) (1.26.15)\n",
            "Requirement already satisfied: certifi>=2017.4.17 in /usr/local/lib/python3.10/dist-packages (from requests[socks]->gdown) (2022.12.7)\n",
            "Requirement already satisfied: charset-normalizer~=2.0.0 in /usr/local/lib/python3.10/dist-packages (from requests[socks]->gdown) (2.0.12)\n",
            "Requirement already satisfied: idna<4,>=2.5 in /usr/local/lib/python3.10/dist-packages (from requests[socks]->gdown) (3.4)\n",
            "Requirement already satisfied: PySocks!=1.5.7,>=1.5.6 in /usr/local/lib/python3.10/dist-packages (from requests[socks]->gdown) (1.7.1)\n"
          ]
        }
      ],
      "source": [
        "!pip install gdown"
      ]
    },
    {
      "cell_type": "markdown",
      "metadata": {
        "id": "eyAMi_Nw3_Gk"
      },
      "source": [
        "# Validation Results"
      ]
    },
    {
      "cell_type": "code",
      "execution_count": 27,
      "metadata": {
        "id": "SiquUb2d3_Gk",
        "outputId": "25b6160f-3aee-4304-b86d-3b78d86a0c3e",
        "colab": {
          "base_uri": "https://localhost:8080/"
        }
      },
      "outputs": [
        {
          "output_type": "stream",
          "name": "stdout",
          "text": [
            "625/625 [==============================] - 7s 11ms/step\n"
          ]
        }
      ],
      "source": [
        "y_hat = model.predict(X_test)"
      ]
    },
    {
      "cell_type": "code",
      "execution_count": 28,
      "metadata": {
        "id": "24F1HThO3_Gk"
      },
      "outputs": [],
      "source": [
        "y_hat = np.argmax(y_hat, axis=1)\n",
        "y_true = np.argmax(y_test, axis=1)"
      ]
    },
    {
      "cell_type": "code",
      "execution_count": 29,
      "metadata": {
        "id": "05SZBy8Q3_Gk"
      },
      "outputs": [],
      "source": [
        "y_true_ohe = to_categorical(y_true, num_classes=num_classes)\n",
        "y_hat_ohe =  to_categorical(y_hat, num_classes=num_classes)"
      ]
    },
    {
      "cell_type": "markdown",
      "source": [],
      "metadata": {
        "id": "GPm2DdE3Bikx"
      }
    },
    {
      "cell_type": "code",
      "execution_count": null,
      "metadata": {
        "id": "YsCXQWhz3_Gk"
      },
      "outputs": [],
      "source": []
    },
    {
      "cell_type": "code",
      "execution_count": 30,
      "metadata": {
        "id": "KxF3Kemg3_Gk",
        "outputId": "66aea549-8c39-48a9-85d6-b2006d8f69fa",
        "colab": {
          "base_uri": "https://localhost:8080/",
          "height": 925
        }
      },
      "outputs": [
        {
          "output_type": "display_data",
          "data": {
            "text/plain": [
              "<Figure size 2000x2000 with 1 Axes>"
            ],
            "image/png": "[encoded data removed]"
          },
          "metadata": {}
        }
      ],
      "source": [
        "\n",
        "ROC_plot(y_true_ohe, y_hat_ohe, label_encoder, num_classes)"
      ]
    },
    {
      "cell_type": "code",
      "execution_count": 31,
      "metadata": {
        "id": "h5mynfpm3_Gl",
        "outputId": "d0a8cdae-b182-443e-9e6f-7f9e905f0e6a",
        "colab": {
          "base_uri": "https://localhost:8080/",
          "height": 1000
        }
      },
      "outputs": [
        {
          "output_type": "stream",
          "name": "stdout",
          "text": [
            "Accuracy:  0.94615\n",
            "Precision:  0.94615\n",
            "Recall:  0.94615\n",
            "F1 Score:  0.9017604670254492\n",
            "\n",
            "Macro Precision, Recall, F1 Score, and Support (macro average)\n",
            "(0.9642359035664475, 0.9105481727574751, 0.9323349292457549, None)\n",
            "\n",
            "Macro Precision, Recall, F1 Score, and Support (micro average)\n",
            "(0.94615, 0.94615, 0.94615, None)\n",
            "\n",
            "Macro Precision, Recall, F1 Score, and Support (weighted average)\n",
            "(0.9500017931858936, 0.94615, 0.9445035652094366, None)\n",
            "\n",
            "Confusion Matrix\n"
          ]
        },
        {
          "output_type": "display_data",
          "data": {
            "text/plain": [
              "<Figure size 1000x700 with 2 Axes>"
            ],
            "image/png": "[encoded data removed]"
          },
          "metadata": {}
        },
        {
          "output_type": "stream",
          "name": "stdout",
          "text": [
            "\n",
            "Classification Report\n",
            "              precision    recall  f1-score   support\n",
            "\n",
            "           0       0.93      1.00      0.96     13980\n",
            "           1       1.00      0.82      0.90      6020\n",
            "\n",
            "    accuracy                           0.95     20000\n",
            "   macro avg       0.96      0.91      0.93     20000\n",
            "weighted avg       0.95      0.95      0.94     20000\n",
            "\n"
          ]
        }
      ],
      "source": [
        "print_score(y_hat, y_true, label_encoder)"
      ]
    },
    {
      "cell_type": "code",
      "execution_count": null,
      "metadata": {
        "id": "DCk--Ylj3_Gl"
      },
      "outputs": [],
      "source": []
    }
  ],
  "metadata": {
    "colab": {
      "provenance": [],
      "include_colab_link": true
    },
    "kernelspec": {
      "display_name": "Python 3",
      "language": "python",
      "name": "python3"
    },
    "language_info": {
      "codemirror_mode": {
        "name": "ipython",
        "version": 3
      },
      "file_extension": ".py",
      "mimetype": "text/x-python",
      "name": "python",
      "nbconvert_exporter": "python",
      "pygments_lexer": "ipython3",
      "version": "3.7.12"
    }
  },
  "nbformat": 4,
  "nbformat_minor": 0
}