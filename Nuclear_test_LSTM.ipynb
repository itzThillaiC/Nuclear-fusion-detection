{
  "cells": [
    {
      "attachments": {},
      "cell_type": "markdown",
      "metadata": {
        "colab_type": "text",
        "id": "view-in-github"
      },
      "source": [
        "<a href=\"https://colab.research.google.com/github/itzThillaiC/Nuclear-fusion-detection/blob/main/Nuclear_test_LSTM.ipynb\" target=\"_parent\"><img src=\"https://colab.research.google.com/assets/colab-badge.svg\" alt=\"Open In Colab\"/></a>"
      ]
    },
    {
      "cell_type": "code",
      "execution_count": null,
      "metadata": {
        "colab": {
          "base_uri": "https://localhost:8080/"
        },
        "id": "nMlTwXUf3_GU",
        "outputId": "825db9a1-900f-4f8d-d6dd-d6c97198f9e2"
      },
      "outputs": [
        {
          "name": "stdout",
          "output_type": "stream",
          "text": [
            "/usr/bin/xdg-open: 869: www-browser: not found\n",
            "/usr/bin/xdg-open: 869: links2: not found\n",
            "/usr/bin/xdg-open: 869: elinks: not found\n",
            "/usr/bin/xdg-open: 869: links: not found\n",
            "/usr/bin/xdg-open: 869: lynx: not found\n",
            "/usr/bin/xdg-open: 869: w3m: not found\n",
            "xdg-open: no method available for opening 'https://accounts.google.com/o/oauth2/auth?client_id=564921029129.apps.googleusercontent.com&redirect_uri=https%3A%2F%2Fgd-ocaml-auth.appspot.com%2Foauth2callback&scope=https%3A%2F%2Fwww.googleapis.com%2Fauth%2Fdrive&response_type=code&access_type=offline&approval_prompt=force&state=GPOPp2-05%2FODo4A78cKs8EpABm61aNbi1WtIJwpzfV4'\n",
            "/bin/sh: 1: firefox: not found\n",
            "/bin/sh: 1: google-chrome: not found\n",
            "/bin/sh: 1: chromium-browser: not found\n",
            "/bin/sh: 1: open: not found\n",
            "Cannot retrieve auth tokens.\n",
            "Failure(\"Error opening URL:https://accounts.google.com/o/oauth2/auth?client_id=564921029129.apps.googleusercontent.com&redirect_uri=https%3A%2F%2Fgd-ocaml-auth.appspot.com%2Foauth2callback&scope=https%3A%2F%2Fwww.googleapis.com%2Fauth%2Fdrive&response_type=code&access_type=offline&approval_prompt=force&state=GPOPp2-05%2FODo4A78cKs8EpABm61aNbi1WtIJwpzfV4\")\n",
            "/content\n",
            "/content/gdrive\n",
            "Access token retrieved correctly.\n"
          ]
        }
      ],
      "source": [
        "!sudo echo -ne '\\n' | sudo add-apt-repository ppa:alessandro-strada/ppa >/dev/null 2>&1 # note: >/dev/null 2>&1 is used to supress printing\n",
        "!sudo apt update >/dev/null 2>&1\n",
        "!sudo apt install google-drive-ocamlfuse >/dev/null 2>&1\n",
        "!google-drive-ocamlfuse\n",
        "!sudo apt-get install w3m >/dev/null 2>&1 # to act as web browser\n",
        "!xdg-settings set default-web-browser w3m.desktop >/dev/null 2>&1 # to set default browser\n",
        "%cd /content\n",
        "!mkdir gdrive\n",
        "%cd gdrive\n",
        "!mkdir \"My_Drive\"\n",
        "!google-drive-ocamlfuse \"/content/gdrive/My_Drive\""
      ]
    },
    {
      "cell_type": "code",
      "execution_count": null,
      "metadata": {
        "id": "u1LRcbrGhReM"
      },
      "outputs": [],
      "source": [
        "\n",
        "import pandas as pd\n",
        "import numpy as np\n",
        "\n",
        "df = pd.read_csv('/content/gdrive/My_Drive/Nuclear_fusion_data/fusion_experiment.csv', low_memory=False)"
      ]
    },
    {
      "cell_type": "code",
      "execution_count": null,
      "metadata": {
        "colab": {
          "base_uri": "https://localhost:8080/",
          "height": 357
        },
        "id": "AJDBEmef3_GV",
        "outputId": "db3178c6-fdea-4810-c920-b53d048fd95e"
      },
      "outputs": [
        {
          "data": {
            "text/html": [
              "\n",
              "  <div id=\"df-260f42cf-9d9c-49c0-a7a7-3c8a9965ff11\">\n",
              "    <div class=\"colab-df-container\">\n",
              "      <div>\n",
              "<style scoped>\n",
              "    .dataframe tbody tr th:only-of-type {\n",
              "        vertical-align: middle;\n",
              "    }\n",
              "\n",
              "    .dataframe tbody tr th {\n",
              "        vertical-align: top;\n",
              "    }\n",
              "\n",
              "    .dataframe thead th {\n",
              "        text-align: right;\n",
              "    }\n",
              "</style>\n",
              "<table border=\"1\" class=\"dataframe\">\n",
              "  <thead>\n",
              "    <tr style=\"text-align: right;\">\n",
              "      <th></th>\n",
              "      <th>Unnamed: 0</th>\n",
              "      <th>Magnetic Field Fluctuations</th>\n",
              "      <th>Leakage</th>\n",
              "      <th>Instabilities</th>\n",
              "      <th>Plasma Instabilities</th>\n",
              "      <th>Magnetic Field Strength</th>\n",
              "      <th>Magnetic Field Configuration</th>\n",
              "      <th>Injection Energy</th>\n",
              "      <th>Beam Symmetry</th>\n",
              "      <th>Target Density</th>\n",
              "      <th>Target Composition</th>\n",
              "      <th>Fuel Density</th>\n",
              "      <th>Temperature</th>\n",
              "      <th>Confinement Time</th>\n",
              "      <th>Fuel Purity</th>\n",
              "      <th>Energy Input</th>\n",
              "      <th>Power Output</th>\n",
              "      <th>Pressure</th>\n",
              "      <th>Neutron Yield</th>\n",
              "      <th>Ignition</th>\n",
              "    </tr>\n",
              "  </thead>\n",
              "  <tbody>\n",
              "    <tr>\n",
              "      <th>0</th>\n",
              "      <td>0</td>\n",
              "      <td>0.037454</td>\n",
              "      <td>0.058078</td>\n",
              "      <td>0.028259</td>\n",
              "      <td>0.015705</td>\n",
              "      <td>9.000578</td>\n",
              "      <td>tokamak</td>\n",
              "      <td>5.713125</td>\n",
              "      <td>0.800007</td>\n",
              "      <td>2.026963e+19</td>\n",
              "      <td>deuterium</td>\n",
              "      <td>7.612226e+19</td>\n",
              "      <td>4.050388e+08</td>\n",
              "      <td>0.842126</td>\n",
              "      <td>99.971295</td>\n",
              "      <td>250.726719</td>\n",
              "      <td>55.321517</td>\n",
              "      <td>6.107792e+06</td>\n",
              "      <td>5.443404e+10</td>\n",
              "      <td>0</td>\n",
              "    </tr>\n",
              "    <tr>\n",
              "      <th>1</th>\n",
              "      <td>1</td>\n",
              "      <td>0.095071</td>\n",
              "      <td>0.052697</td>\n",
              "      <td>0.045868</td>\n",
              "      <td>0.009551</td>\n",
              "      <td>3.841421</td>\n",
              "      <td>reversed field pinch</td>\n",
              "      <td>9.819548</td>\n",
              "      <td>0.082642</td>\n",
              "      <td>3.050685e+19</td>\n",
              "      <td>deuterium-tritium</td>\n",
              "      <td>8.742441e+19</td>\n",
              "      <td>2.551963e+08</td>\n",
              "      <td>0.504637</td>\n",
              "      <td>99.951049</td>\n",
              "      <td>345.614166</td>\n",
              "      <td>22.767959</td>\n",
              "      <td>4.921946e+06</td>\n",
              "      <td>8.372016e+10</td>\n",
              "      <td>0</td>\n",
              "    </tr>\n",
              "    <tr>\n",
              "      <th>2</th>\n",
              "      <td>2</td>\n",
              "      <td>0.073199</td>\n",
              "      <td>0.035104</td>\n",
              "      <td>0.009922</td>\n",
              "      <td>0.013794</td>\n",
              "      <td>1.467187</td>\n",
              "      <td>stellarator</td>\n",
              "      <td>7.016781</td>\n",
              "      <td>0.176319</td>\n",
              "      <td>5.287388e+19</td>\n",
              "      <td>tritium</td>\n",
              "      <td>8.236610e+19</td>\n",
              "      <td>2.627651e+08</td>\n",
              "      <td>0.357445</td>\n",
              "      <td>99.958831</td>\n",
              "      <td>290.050980</td>\n",
              "      <td>49.872944</td>\n",
              "      <td>9.798230e+06</td>\n",
              "      <td>8.112584e+10</td>\n",
              "      <td>1</td>\n",
              "    </tr>\n",
              "    <tr>\n",
              "      <th>3</th>\n",
              "      <td>3</td>\n",
              "      <td>0.059866</td>\n",
              "      <td>0.049321</td>\n",
              "      <td>0.044684</td>\n",
              "      <td>0.047349</td>\n",
              "      <td>9.277696</td>\n",
              "      <td>tokamak</td>\n",
              "      <td>4.018930</td>\n",
              "      <td>0.833709</td>\n",
              "      <td>5.961305e+19</td>\n",
              "      <td>deuterium-tritium</td>\n",
              "      <td>9.079654e+19</td>\n",
              "      <td>3.104709e+08</td>\n",
              "      <td>0.992195</td>\n",
              "      <td>99.997186</td>\n",
              "      <td>436.491093</td>\n",
              "      <td>2.656182</td>\n",
              "      <td>5.611293e+06</td>\n",
              "      <td>4.423307e+10</td>\n",
              "      <td>1</td>\n",
              "    </tr>\n",
              "    <tr>\n",
              "      <th>4</th>\n",
              "      <td>4</td>\n",
              "      <td>0.015602</td>\n",
              "      <td>0.036510</td>\n",
              "      <td>0.020308</td>\n",
              "      <td>0.088453</td>\n",
              "      <td>4.926347</td>\n",
              "      <td>reversed field pinch</td>\n",
              "      <td>6.145836</td>\n",
              "      <td>0.808161</td>\n",
              "      <td>7.887942e+19</td>\n",
              "      <td>deuterium</td>\n",
              "      <td>8.186142e+19</td>\n",
              "      <td>3.258529e+08</td>\n",
              "      <td>0.648677</td>\n",
              "      <td>99.927054</td>\n",
              "      <td>198.773196</td>\n",
              "      <td>48.096005</td>\n",
              "      <td>8.541064e+06</td>\n",
              "      <td>2.245276e+10</td>\n",
              "      <td>0</td>\n",
              "    </tr>\n",
              "  </tbody>\n",
              "</table>\n",
              "</div>\n",
              "      <button class=\"colab-df-convert\" onclick=\"convertToInteractive('df-260f42cf-9d9c-49c0-a7a7-3c8a9965ff11')\"\n",
              "              title=\"Convert this dataframe to an interactive table.\"\n",
              "              style=\"display:none;\">\n",
              "        \n",
              "  <svg xmlns=\"http://www.w3.org/2000/svg\" height=\"24px\"viewBox=\"0 0 24 24\"\n",
              "       width=\"24px\">\n",
              "    <path d=\"M0 0h24v24H0V0z\" fill=\"none\"/>\n",
              "    <path d=\"M18.56 5.44l.94 2.06.94-2.06 2.06-.94-2.06-.94-.94-2.06-.94 2.06-2.06.94zm-11 1L8.5 8.5l.94-2.06 2.06-.94-2.06-.94L8.5 2.5l-.94 2.06-2.06.94zm10 10l.94 2.06.94-2.06 2.06-.94-2.06-.94-.94-2.06-.94 2.06-2.06.94z\"/><path d=\"M17.41 7.96l-1.37-1.37c-.4-.4-.92-.59-1.43-.59-.52 0-1.04.2-1.43.59L10.3 9.45l-7.72 7.72c-.78.78-.78 2.05 0 2.83L4 21.41c.39.39.9.59 1.41.59.51 0 1.02-.2 1.41-.59l7.78-7.78 2.81-2.81c.8-.78.8-2.07 0-2.86zM5.41 20L4 18.59l7.72-7.72 1.47 1.35L5.41 20z\"/>\n",
              "  </svg>\n",
              "      </button>\n",
              "      \n",
              "  <style>\n",
              "    .colab-df-container {\n",
              "      display:flex;\n",
              "      flex-wrap:wrap;\n",
              "      gap: 12px;\n",
              "    }\n",
              "\n",
              "    .colab-df-convert {\n",
              "      background-color: #E8F0FE;\n",
              "      border: none;\n",
              "      border-radius: 50%;\n",
              "      cursor: pointer;\n",
              "      display: none;\n",
              "      fill: #1967D2;\n",
              "      height: 32px;\n",
              "      padding: 0 0 0 0;\n",
              "      width: 32px;\n",
              "    }\n",
              "\n",
              "    .colab-df-convert:hover {\n",
              "      background-color: #E2EBFA;\n",
              "      box-shadow: 0px 1px 2px rgba(60, 64, 67, 0.3), 0px 1px 3px 1px rgba(60, 64, 67, 0.15);\n",
              "      fill: #174EA6;\n",
              "    }\n",
              "\n",
              "    [theme=dark] .colab-df-convert {\n",
              "      background-color: #3B4455;\n",
              "      fill: #D2E3FC;\n",
              "    }\n",
              "\n",
              "    [theme=dark] .colab-df-convert:hover {\n",
              "      background-color: #434B5C;\n",
              "      box-shadow: 0px 1px 3px 1px rgba(0, 0, 0, 0.15);\n",
              "      filter: drop-shadow(0px 1px 2px rgba(0, 0, 0, 0.3));\n",
              "      fill: #FFFFFF;\n",
              "    }\n",
              "  </style>\n",
              "\n",
              "      <script>\n",
              "        const buttonEl =\n",
              "          document.querySelector('#df-260f42cf-9d9c-49c0-a7a7-3c8a9965ff11 button.colab-df-convert');\n",
              "        buttonEl.style.display =\n",
              "          google.colab.kernel.accessAllowed ? 'block' : 'none';\n",
              "\n",
              "        async function convertToInteractive(key) {\n",
              "          const element = document.querySelector('#df-260f42cf-9d9c-49c0-a7a7-3c8a9965ff11');\n",
              "          const dataTable =\n",
              "            await google.colab.kernel.invokeFunction('convertToInteractive',\n",
              "                                                     [key], {});\n",
              "          if (!dataTable) return;\n",
              "\n",
              "          const docLinkHtml = 'Like what you see? Visit the ' +\n",
              "            '<a target=\"_blank\" href=https://colab.research.google.com/notebooks/data_table.ipynb>data table notebook</a>'\n",
              "            + ' to learn more about interactive tables.';\n",
              "          element.innerHTML = '';\n",
              "          dataTable['output_type'] = 'display_data';\n",
              "          await google.colab.output.renderOutput(dataTable, element);\n",
              "          const docLink = document.createElement('div');\n",
              "          docLink.innerHTML = docLinkHtml;\n",
              "          element.appendChild(docLink);\n",
              "        }\n",
              "      </script>\n",
              "    </div>\n",
              "  </div>\n",
              "  "
            ],
            "text/plain": [
              "   Unnamed: 0  Magnetic Field Fluctuations   Leakage  Instabilities  \\\n",
              "0           0                     0.037454  0.058078       0.028259   \n",
              "1           1                     0.095071  0.052697       0.045868   \n",
              "2           2                     0.073199  0.035104       0.009922   \n",
              "3           3                     0.059866  0.049321       0.044684   \n",
              "4           4                     0.015602  0.036510       0.020308   \n",
              "\n",
              "   Plasma Instabilities  Magnetic Field Strength Magnetic Field Configuration  \\\n",
              "0              0.015705                 9.000578                      tokamak   \n",
              "1              0.009551                 3.841421         reversed field pinch   \n",
              "2              0.013794                 1.467187                  stellarator   \n",
              "3              0.047349                 9.277696                      tokamak   \n",
              "4              0.088453                 4.926347         reversed field pinch   \n",
              "\n",
              "   Injection Energy  Beam Symmetry  Target Density Target Composition  \\\n",
              "0          5.713125       0.800007    2.026963e+19          deuterium   \n",
              "1          9.819548       0.082642    3.050685e+19  deuterium-tritium   \n",
              "2          7.016781       0.176319    5.287388e+19            tritium   \n",
              "3          4.018930       0.833709    5.961305e+19  deuterium-tritium   \n",
              "4          6.145836       0.808161    7.887942e+19          deuterium   \n",
              "\n",
              "   Fuel Density   Temperature  Confinement Time  Fuel Purity  Energy Input  \\\n",
              "0  7.612226e+19  4.050388e+08          0.842126    99.971295    250.726719   \n",
              "1  8.742441e+19  2.551963e+08          0.504637    99.951049    345.614166   \n",
              "2  8.236610e+19  2.627651e+08          0.357445    99.958831    290.050980   \n",
              "3  9.079654e+19  3.104709e+08          0.992195    99.997186    436.491093   \n",
              "4  8.186142e+19  3.258529e+08          0.648677    99.927054    198.773196   \n",
              "\n",
              "   Power Output      Pressure  Neutron Yield  Ignition  \n",
              "0     55.321517  6.107792e+06   5.443404e+10         0  \n",
              "1     22.767959  4.921946e+06   8.372016e+10         0  \n",
              "2     49.872944  9.798230e+06   8.112584e+10         1  \n",
              "3      2.656182  5.611293e+06   4.423307e+10         1  \n",
              "4     48.096005  8.541064e+06   2.245276e+10         0  "
            ]
          },
          "execution_count": 3,
          "metadata": {},
          "output_type": "execute_result"
        }
      ],
      "source": [
        "df.head(5)\n"
      ]
    },
    {
      "cell_type": "code",
      "execution_count": null,
      "metadata": {
        "colab": {
          "base_uri": "https://localhost:8080/"
        },
        "id": "24uVov743_GX",
        "outputId": "f4040e6a-ddd9-4b7e-d1a8-fdbabede368e"
      },
      "outputs": [
        {
          "name": "stdout",
          "output_type": "stream",
          "text": [
            "<class 'pandas.core.frame.DataFrame'>\n",
            "RangeIndex: 100000 entries, 0 to 99999\n",
            "Data columns (total 20 columns):\n",
            " #   Column                        Non-Null Count   Dtype  \n",
            "---  ------                        --------------   -----  \n",
            " 0   Unnamed: 0                    100000 non-null  int64  \n",
            " 1   Magnetic Field Fluctuations   100000 non-null  float64\n",
            " 2   Leakage                       100000 non-null  float64\n",
            " 3   Instabilities                 100000 non-null  float64\n",
            " 4   Plasma Instabilities          100000 non-null  float64\n",
            " 5   Magnetic Field Strength       100000 non-null  float64\n",
            " 6   Magnetic Field Configuration  100000 non-null  object \n",
            " 7   Injection Energy              100000 non-null  float64\n",
            " 8   Beam Symmetry                 100000 non-null  float64\n",
            " 9   Target Density                100000 non-null  float64\n",
            " 10  Target Composition            100000 non-null  object \n",
            " 11  Fuel Density                  100000 non-null  float64\n",
            " 12  Temperature                   100000 non-null  float64\n",
            " 13  Confinement Time              100000 non-null  float64\n",
            " 14  Fuel Purity                   100000 non-null  float64\n",
            " 15  Energy Input                  100000 non-null  float64\n",
            " 16  Power Output                  100000 non-null  float64\n",
            " 17  Pressure                      100000 non-null  float64\n",
            " 18  Neutron Yield                 100000 non-null  float64\n",
            " 19  Ignition                      100000 non-null  int64  \n",
            "dtypes: float64(16), int64(2), object(2)\n",
            "memory usage: 15.3+ MB\n"
          ]
        }
      ],
      "source": [
        "df.info()"
      ]
    },
    {
      "cell_type": "code",
      "execution_count": null,
      "metadata": {
        "colab": {
          "base_uri": "https://localhost:8080/",
          "height": 522
        },
        "id": "92poUGwZ3_GY",
        "outputId": "a3879ac7-51c9-4b69-c3dd-938ea7a07241"
      },
      "outputs": [
        {
          "data": {
            "text/html": [
              "\n",
              "  <div id=\"df-5b4ff029-a32d-4962-af9f-96b4c971e960\">\n",
              "    <div class=\"colab-df-container\">\n",
              "      <div>\n",
              "<style scoped>\n",
              "    .dataframe tbody tr th:only-of-type {\n",
              "        vertical-align: middle;\n",
              "    }\n",
              "\n",
              "    .dataframe tbody tr th {\n",
              "        vertical-align: top;\n",
              "    }\n",
              "\n",
              "    .dataframe thead th {\n",
              "        text-align: right;\n",
              "    }\n",
              "</style>\n",
              "<table border=\"1\" class=\"dataframe\">\n",
              "  <thead>\n",
              "    <tr style=\"text-align: right;\">\n",
              "      <th></th>\n",
              "      <th>Unnamed: 0</th>\n",
              "      <th>Magnetic Field Fluctuations</th>\n",
              "      <th>Leakage</th>\n",
              "      <th>Instabilities</th>\n",
              "      <th>Plasma Instabilities</th>\n",
              "      <th>Magnetic Field Strength</th>\n",
              "      <th>Magnetic Field Configuration</th>\n",
              "      <th>Injection Energy</th>\n",
              "      <th>Beam Symmetry</th>\n",
              "      <th>Target Density</th>\n",
              "      <th>Target Composition</th>\n",
              "      <th>Fuel Density</th>\n",
              "      <th>Temperature</th>\n",
              "      <th>Confinement Time</th>\n",
              "      <th>Fuel Purity</th>\n",
              "      <th>Energy Input</th>\n",
              "      <th>Power Output</th>\n",
              "      <th>Pressure</th>\n",
              "      <th>Neutron Yield</th>\n",
              "      <th>Ignition</th>\n",
              "    </tr>\n",
              "  </thead>\n",
              "  <tbody>\n",
              "    <tr>\n",
              "      <th>0</th>\n",
              "      <td>0</td>\n",
              "      <td>0.037454</td>\n",
              "      <td>0.058078</td>\n",
              "      <td>0.028259</td>\n",
              "      <td>0.015705</td>\n",
              "      <td>9.000578</td>\n",
              "      <td>2</td>\n",
              "      <td>5.713125</td>\n",
              "      <td>0.800007</td>\n",
              "      <td>2.026963e+19</td>\n",
              "      <td>0</td>\n",
              "      <td>7.612226e+19</td>\n",
              "      <td>4.050388e+08</td>\n",
              "      <td>0.842126</td>\n",
              "      <td>99.971295</td>\n",
              "      <td>250.726719</td>\n",
              "      <td>55.321517</td>\n",
              "      <td>6.107792e+06</td>\n",
              "      <td>5.443404e+10</td>\n",
              "      <td>0</td>\n",
              "    </tr>\n",
              "    <tr>\n",
              "      <th>1</th>\n",
              "      <td>1</td>\n",
              "      <td>0.095071</td>\n",
              "      <td>0.052697</td>\n",
              "      <td>0.045868</td>\n",
              "      <td>0.009551</td>\n",
              "      <td>3.841421</td>\n",
              "      <td>0</td>\n",
              "      <td>9.819548</td>\n",
              "      <td>0.082642</td>\n",
              "      <td>3.050685e+19</td>\n",
              "      <td>1</td>\n",
              "      <td>8.742441e+19</td>\n",
              "      <td>2.551963e+08</td>\n",
              "      <td>0.504637</td>\n",
              "      <td>99.951049</td>\n",
              "      <td>345.614166</td>\n",
              "      <td>22.767959</td>\n",
              "      <td>4.921946e+06</td>\n",
              "      <td>8.372016e+10</td>\n",
              "      <td>0</td>\n",
              "    </tr>\n",
              "    <tr>\n",
              "      <th>2</th>\n",
              "      <td>2</td>\n",
              "      <td>0.073199</td>\n",
              "      <td>0.035104</td>\n",
              "      <td>0.009922</td>\n",
              "      <td>0.013794</td>\n",
              "      <td>1.467187</td>\n",
              "      <td>1</td>\n",
              "      <td>7.016781</td>\n",
              "      <td>0.176319</td>\n",
              "      <td>5.287388e+19</td>\n",
              "      <td>2</td>\n",
              "      <td>8.236610e+19</td>\n",
              "      <td>2.627651e+08</td>\n",
              "      <td>0.357445</td>\n",
              "      <td>99.958831</td>\n",
              "      <td>290.050980</td>\n",
              "      <td>49.872944</td>\n",
              "      <td>9.798230e+06</td>\n",
              "      <td>8.112584e+10</td>\n",
              "      <td>1</td>\n",
              "    </tr>\n",
              "    <tr>\n",
              "      <th>3</th>\n",
              "      <td>3</td>\n",
              "      <td>0.059866</td>\n",
              "      <td>0.049321</td>\n",
              "      <td>0.044684</td>\n",
              "      <td>0.047349</td>\n",
              "      <td>9.277696</td>\n",
              "      <td>2</td>\n",
              "      <td>4.018930</td>\n",
              "      <td>0.833709</td>\n",
              "      <td>5.961305e+19</td>\n",
              "      <td>1</td>\n",
              "      <td>9.079654e+19</td>\n",
              "      <td>3.104709e+08</td>\n",
              "      <td>0.992195</td>\n",
              "      <td>99.997186</td>\n",
              "      <td>436.491093</td>\n",
              "      <td>2.656182</td>\n",
              "      <td>5.611293e+06</td>\n",
              "      <td>4.423307e+10</td>\n",
              "      <td>1</td>\n",
              "    </tr>\n",
              "    <tr>\n",
              "      <th>4</th>\n",
              "      <td>4</td>\n",
              "      <td>0.015602</td>\n",
              "      <td>0.036510</td>\n",
              "      <td>0.020308</td>\n",
              "      <td>0.088453</td>\n",
              "      <td>4.926347</td>\n",
              "      <td>0</td>\n",
              "      <td>6.145836</td>\n",
              "      <td>0.808161</td>\n",
              "      <td>7.887942e+19</td>\n",
              "      <td>0</td>\n",
              "      <td>8.186142e+19</td>\n",
              "      <td>3.258529e+08</td>\n",
              "      <td>0.648677</td>\n",
              "      <td>99.927054</td>\n",
              "      <td>198.773196</td>\n",
              "      <td>48.096005</td>\n",
              "      <td>8.541064e+06</td>\n",
              "      <td>2.245276e+10</td>\n",
              "      <td>0</td>\n",
              "    </tr>\n",
              "    <tr>\n",
              "      <th>...</th>\n",
              "      <td>...</td>\n",
              "      <td>...</td>\n",
              "      <td>...</td>\n",
              "      <td>...</td>\n",
              "      <td>...</td>\n",
              "      <td>...</td>\n",
              "      <td>...</td>\n",
              "      <td>...</td>\n",
              "      <td>...</td>\n",
              "      <td>...</td>\n",
              "      <td>...</td>\n",
              "      <td>...</td>\n",
              "      <td>...</td>\n",
              "      <td>...</td>\n",
              "      <td>...</td>\n",
              "      <td>...</td>\n",
              "      <td>...</td>\n",
              "      <td>...</td>\n",
              "      <td>...</td>\n",
              "      <td>...</td>\n",
              "    </tr>\n",
              "    <tr>\n",
              "      <th>99995</th>\n",
              "      <td>99995</td>\n",
              "      <td>0.079230</td>\n",
              "      <td>0.062215</td>\n",
              "      <td>0.009281</td>\n",
              "      <td>0.075015</td>\n",
              "      <td>6.989681</td>\n",
              "      <td>2</td>\n",
              "      <td>8.363230</td>\n",
              "      <td>0.080241</td>\n",
              "      <td>6.220430e+19</td>\n",
              "      <td>1</td>\n",
              "      <td>8.029543e+19</td>\n",
              "      <td>3.534515e+08</td>\n",
              "      <td>0.434566</td>\n",
              "      <td>99.917577</td>\n",
              "      <td>130.728901</td>\n",
              "      <td>51.822726</td>\n",
              "      <td>9.611845e+06</td>\n",
              "      <td>6.252602e+10</td>\n",
              "      <td>0</td>\n",
              "    </tr>\n",
              "    <tr>\n",
              "      <th>99996</th>\n",
              "      <td>99996</td>\n",
              "      <td>0.077925</td>\n",
              "      <td>0.062922</td>\n",
              "      <td>0.062563</td>\n",
              "      <td>0.027253</td>\n",
              "      <td>9.904975</td>\n",
              "      <td>0</td>\n",
              "      <td>3.718771</td>\n",
              "      <td>0.977716</td>\n",
              "      <td>3.429971e+19</td>\n",
              "      <td>2</td>\n",
              "      <td>1.608651e+19</td>\n",
              "      <td>4.554238e+08</td>\n",
              "      <td>0.888713</td>\n",
              "      <td>99.902695</td>\n",
              "      <td>114.869008</td>\n",
              "      <td>9.746068</td>\n",
              "      <td>1.099463e+06</td>\n",
              "      <td>4.545773e+10</td>\n",
              "      <td>0</td>\n",
              "    </tr>\n",
              "    <tr>\n",
              "      <th>99997</th>\n",
              "      <td>99997</td>\n",
              "      <td>0.067445</td>\n",
              "      <td>0.019220</td>\n",
              "      <td>0.062666</td>\n",
              "      <td>0.057559</td>\n",
              "      <td>5.389669</td>\n",
              "      <td>2</td>\n",
              "      <td>8.788397</td>\n",
              "      <td>0.374680</td>\n",
              "      <td>4.750184e+19</td>\n",
              "      <td>2</td>\n",
              "      <td>3.021016e+19</td>\n",
              "      <td>2.331046e+08</td>\n",
              "      <td>0.323766</td>\n",
              "      <td>99.910285</td>\n",
              "      <td>458.044080</td>\n",
              "      <td>69.116870</td>\n",
              "      <td>7.473165e+06</td>\n",
              "      <td>7.240109e+10</td>\n",
              "      <td>0</td>\n",
              "    </tr>\n",
              "    <tr>\n",
              "      <th>99998</th>\n",
              "      <td>99998</td>\n",
              "      <td>0.049945</td>\n",
              "      <td>0.065308</td>\n",
              "      <td>0.004765</td>\n",
              "      <td>0.089334</td>\n",
              "      <td>6.984881</td>\n",
              "      <td>2</td>\n",
              "      <td>3.024949</td>\n",
              "      <td>0.926179</td>\n",
              "      <td>3.030606e+19</td>\n",
              "      <td>1</td>\n",
              "      <td>4.217068e+19</td>\n",
              "      <td>2.660837e+08</td>\n",
              "      <td>0.646530</td>\n",
              "      <td>99.984932</td>\n",
              "      <td>342.844863</td>\n",
              "      <td>31.591851</td>\n",
              "      <td>6.759779e+06</td>\n",
              "      <td>7.576517e+10</td>\n",
              "      <td>0</td>\n",
              "    </tr>\n",
              "    <tr>\n",
              "      <th>99999</th>\n",
              "      <td>99999</td>\n",
              "      <td>0.038991</td>\n",
              "      <td>0.000156</td>\n",
              "      <td>0.070408</td>\n",
              "      <td>0.050242</td>\n",
              "      <td>6.640008</td>\n",
              "      <td>2</td>\n",
              "      <td>6.296842</td>\n",
              "      <td>0.885714</td>\n",
              "      <td>7.313929e+19</td>\n",
              "      <td>0</td>\n",
              "      <td>3.560199e+19</td>\n",
              "      <td>4.370338e+08</td>\n",
              "      <td>0.982118</td>\n",
              "      <td>99.978973</td>\n",
              "      <td>478.135341</td>\n",
              "      <td>92.487755</td>\n",
              "      <td>5.169346e+06</td>\n",
              "      <td>9.004981e+10</td>\n",
              "      <td>0</td>\n",
              "    </tr>\n",
              "  </tbody>\n",
              "</table>\n",
              "<p>100000 rows × 20 columns</p>\n",
              "</div>\n",
              "      <button class=\"colab-df-convert\" onclick=\"convertToInteractive('df-5b4ff029-a32d-4962-af9f-96b4c971e960')\"\n",
              "              title=\"Convert this dataframe to an interactive table.\"\n",
              "              style=\"display:none;\">\n",
              "        \n",
              "  <svg xmlns=\"http://www.w3.org/2000/svg\" height=\"24px\"viewBox=\"0 0 24 24\"\n",
              "       width=\"24px\">\n",
              "    <path d=\"M0 0h24v24H0V0z\" fill=\"none\"/>\n",
              "    <path d=\"M18.56 5.44l.94 2.06.94-2.06 2.06-.94-2.06-.94-.94-2.06-.94 2.06-2.06.94zm-11 1L8.5 8.5l.94-2.06 2.06-.94-2.06-.94L8.5 2.5l-.94 2.06-2.06.94zm10 10l.94 2.06.94-2.06 2.06-.94-2.06-.94-.94-2.06-.94 2.06-2.06.94z\"/><path d=\"M17.41 7.96l-1.37-1.37c-.4-.4-.92-.59-1.43-.59-.52 0-1.04.2-1.43.59L10.3 9.45l-7.72 7.72c-.78.78-.78 2.05 0 2.83L4 21.41c.39.39.9.59 1.41.59.51 0 1.02-.2 1.41-.59l7.78-7.78 2.81-2.81c.8-.78.8-2.07 0-2.86zM5.41 20L4 18.59l7.72-7.72 1.47 1.35L5.41 20z\"/>\n",
              "  </svg>\n",
              "      </button>\n",
              "      \n",
              "  <style>\n",
              "    .colab-df-container {\n",
              "      display:flex;\n",
              "      flex-wrap:wrap;\n",
              "      gap: 12px;\n",
              "    }\n",
              "\n",
              "    .colab-df-convert {\n",
              "      background-color: #E8F0FE;\n",
              "      border: none;\n",
              "      border-radius: 50%;\n",
              "      cursor: pointer;\n",
              "      display: none;\n",
              "      fill: #1967D2;\n",
              "      height: 32px;\n",
              "      padding: 0 0 0 0;\n",
              "      width: 32px;\n",
              "    }\n",
              "\n",
              "    .colab-df-convert:hover {\n",
              "      background-color: #E2EBFA;\n",
              "      box-shadow: 0px 1px 2px rgba(60, 64, 67, 0.3), 0px 1px 3px 1px rgba(60, 64, 67, 0.15);\n",
              "      fill: #174EA6;\n",
              "    }\n",
              "\n",
              "    [theme=dark] .colab-df-convert {\n",
              "      background-color: #3B4455;\n",
              "      fill: #D2E3FC;\n",
              "    }\n",
              "\n",
              "    [theme=dark] .colab-df-convert:hover {\n",
              "      background-color: #434B5C;\n",
              "      box-shadow: 0px 1px 3px 1px rgba(0, 0, 0, 0.15);\n",
              "      filter: drop-shadow(0px 1px 2px rgba(0, 0, 0, 0.3));\n",
              "      fill: #FFFFFF;\n",
              "    }\n",
              "  </style>\n",
              "\n",
              "      <script>\n",
              "        const buttonEl =\n",
              "          document.querySelector('#df-5b4ff029-a32d-4962-af9f-96b4c971e960 button.colab-df-convert');\n",
              "        buttonEl.style.display =\n",
              "          google.colab.kernel.accessAllowed ? 'block' : 'none';\n",
              "\n",
              "        async function convertToInteractive(key) {\n",
              "          const element = document.querySelector('#df-5b4ff029-a32d-4962-af9f-96b4c971e960');\n",
              "          const dataTable =\n",
              "            await google.colab.kernel.invokeFunction('convertToInteractive',\n",
              "                                                     [key], {});\n",
              "          if (!dataTable) return;\n",
              "\n",
              "          const docLinkHtml = 'Like what you see? Visit the ' +\n",
              "            '<a target=\"_blank\" href=https://colab.research.google.com/notebooks/data_table.ipynb>data table notebook</a>'\n",
              "            + ' to learn more about interactive tables.';\n",
              "          element.innerHTML = '';\n",
              "          dataTable['output_type'] = 'display_data';\n",
              "          await google.colab.output.renderOutput(dataTable, element);\n",
              "          const docLink = document.createElement('div');\n",
              "          docLink.innerHTML = docLinkHtml;\n",
              "          element.appendChild(docLink);\n",
              "        }\n",
              "      </script>\n",
              "    </div>\n",
              "  </div>\n",
              "  "
            ],
            "text/plain": [
              "       Unnamed: 0  Magnetic Field Fluctuations   Leakage  Instabilities  \\\n",
              "0               0                     0.037454  0.058078       0.028259   \n",
              "1               1                     0.095071  0.052697       0.045868   \n",
              "2               2                     0.073199  0.035104       0.009922   \n",
              "3               3                     0.059866  0.049321       0.044684   \n",
              "4               4                     0.015602  0.036510       0.020308   \n",
              "...           ...                          ...       ...            ...   \n",
              "99995       99995                     0.079230  0.062215       0.009281   \n",
              "99996       99996                     0.077925  0.062922       0.062563   \n",
              "99997       99997                     0.067445  0.019220       0.062666   \n",
              "99998       99998                     0.049945  0.065308       0.004765   \n",
              "99999       99999                     0.038991  0.000156       0.070408   \n",
              "\n",
              "       Plasma Instabilities  Magnetic Field Strength  \\\n",
              "0                  0.015705                 9.000578   \n",
              "1                  0.009551                 3.841421   \n",
              "2                  0.013794                 1.467187   \n",
              "3                  0.047349                 9.277696   \n",
              "4                  0.088453                 4.926347   \n",
              "...                     ...                      ...   \n",
              "99995              0.075015                 6.989681   \n",
              "99996              0.027253                 9.904975   \n",
              "99997              0.057559                 5.389669   \n",
              "99998              0.089334                 6.984881   \n",
              "99999              0.050242                 6.640008   \n",
              "\n",
              "       Magnetic Field Configuration  Injection Energy  Beam Symmetry  \\\n",
              "0                                 2          5.713125       0.800007   \n",
              "1                                 0          9.819548       0.082642   \n",
              "2                                 1          7.016781       0.176319   \n",
              "3                                 2          4.018930       0.833709   \n",
              "4                                 0          6.145836       0.808161   \n",
              "...                             ...               ...            ...   \n",
              "99995                             2          8.363230       0.080241   \n",
              "99996                             0          3.718771       0.977716   \n",
              "99997                             2          8.788397       0.374680   \n",
              "99998                             2          3.024949       0.926179   \n",
              "99999                             2          6.296842       0.885714   \n",
              "\n",
              "       Target Density  Target Composition  Fuel Density   Temperature  \\\n",
              "0        2.026963e+19                   0  7.612226e+19  4.050388e+08   \n",
              "1        3.050685e+19                   1  8.742441e+19  2.551963e+08   \n",
              "2        5.287388e+19                   2  8.236610e+19  2.627651e+08   \n",
              "3        5.961305e+19                   1  9.079654e+19  3.104709e+08   \n",
              "4        7.887942e+19                   0  8.186142e+19  3.258529e+08   \n",
              "...               ...                 ...           ...           ...   \n",
              "99995    6.220430e+19                   1  8.029543e+19  3.534515e+08   \n",
              "99996    3.429971e+19                   2  1.608651e+19  4.554238e+08   \n",
              "99997    4.750184e+19                   2  3.021016e+19  2.331046e+08   \n",
              "99998    3.030606e+19                   1  4.217068e+19  2.660837e+08   \n",
              "99999    7.313929e+19                   0  3.560199e+19  4.370338e+08   \n",
              "\n",
              "       Confinement Time  Fuel Purity  Energy Input  Power Output  \\\n",
              "0              0.842126    99.971295    250.726719     55.321517   \n",
              "1              0.504637    99.951049    345.614166     22.767959   \n",
              "2              0.357445    99.958831    290.050980     49.872944   \n",
              "3              0.992195    99.997186    436.491093      2.656182   \n",
              "4              0.648677    99.927054    198.773196     48.096005   \n",
              "...                 ...          ...           ...           ...   \n",
              "99995          0.434566    99.917577    130.728901     51.822726   \n",
              "99996          0.888713    99.902695    114.869008      9.746068   \n",
              "99997          0.323766    99.910285    458.044080     69.116870   \n",
              "99998          0.646530    99.984932    342.844863     31.591851   \n",
              "99999          0.982118    99.978973    478.135341     92.487755   \n",
              "\n",
              "           Pressure  Neutron Yield  Ignition  \n",
              "0      6.107792e+06   5.443404e+10         0  \n",
              "1      4.921946e+06   8.372016e+10         0  \n",
              "2      9.798230e+06   8.112584e+10         1  \n",
              "3      5.611293e+06   4.423307e+10         1  \n",
              "4      8.541064e+06   2.245276e+10         0  \n",
              "...             ...            ...       ...  \n",
              "99995  9.611845e+06   6.252602e+10         0  \n",
              "99996  1.099463e+06   4.545773e+10         0  \n",
              "99997  7.473165e+06   7.240109e+10         0  \n",
              "99998  6.759779e+06   7.576517e+10         0  \n",
              "99999  5.169346e+06   9.004981e+10         0  \n",
              "\n",
              "[100000 rows x 20 columns]"
            ]
          },
          "execution_count": 5,
          "metadata": {},
          "output_type": "execute_result"
        }
      ],
      "source": [
        "empty_cols = [col for col in df.columns if df[col].isnull().all()]\n",
        "empty_cols\n",
        "from sklearn.preprocessing import LabelEncoder\n",
        "object_features = ['Magnetic Field Configuration', 'Target Composition']\n",
        "\n",
        "# Encode the object features\n",
        "label_encoder = LabelEncoder()\n",
        "for feature in object_features:\n",
        "    df[feature] = label_encoder.fit_transform(df[feature])\n",
        "df"
      ]
    },
    {
      "cell_type": "code",
      "execution_count": null,
      "metadata": {
        "id": "ZBKq-2SWjP50"
      },
      "outputs": [],
      "source": [
        "X= df.drop(['Unnamed: 0'],axis=1)\n",
        "y= df['Ignition']"
      ]
    },
    {
      "attachments": {},
      "cell_type": "markdown",
      "metadata": {
        "id": "vq-Ohsku3_Ga"
      },
      "source": [
        "# Rest of visualization will be on test set\n",
        "### because it takes much time on the whole dataset"
      ]
    },
    {
      "cell_type": "code",
      "execution_count": null,
      "metadata": {
        "id": "jEX0srG03_Gc"
      },
      "outputs": [],
      "source": [
        "from sklearn.model_selection import train_test_split\n",
        "\n",
        "X_train, X_test, y_train, y_test = train_test_split(X, y, test_size=0.2, random_state=1, stratify=y)\n",
        "\n",
        "del X\n",
        "del y"
      ]
    },
    {
      "cell_type": "code",
      "execution_count": null,
      "metadata": {
        "id": "EMllg4r03_Gc"
      },
      "outputs": [],
      "source": [
        "from sklearn.preprocessing import LabelEncoder\n",
        "\n",
        "\n",
        "label_encoder = LabelEncoder()\n",
        "y_train =  label_encoder.fit_transform(y_train)\n",
        "y_test = label_encoder.transform(y_test)"
      ]
    },
    {
      "cell_type": "code",
      "execution_count": null,
      "metadata": {
        "colab": {
          "base_uri": "https://localhost:8080/"
        },
        "id": "XLERoFDj3_Gc",
        "outputId": "6cfbe608-1915-425b-8423-1d0a45195394"
      },
      "outputs": [
        {
          "data": {
            "text/plain": [
              "array([0, 1])"
            ]
          },
          "execution_count": 9,
          "metadata": {},
          "output_type": "execute_result"
        }
      ],
      "source": [
        "\n",
        "label_encoder.classes_\n"
      ]
    },
    {
      "cell_type": "code",
      "execution_count": null,
      "metadata": {
        "id": "Aqub8Vuv3_Gd"
      },
      "outputs": [],
      "source": [
        "from sklearn.feature_selection import mutual_info_regression\n",
        "\n",
        "def make_mi_scores(X_feat, y_label):\n",
        "    mi_scores = mutual_info_regression(X_feat, y_label, discrete_features=False)\n",
        "    mi_scores = pd.Series(mi_scores, name=\"MI Scores\", index=X_feat.columns)\n",
        "    mi_scores = mi_scores.sort_values(ascending=False)\n",
        "    return mi_scores\n",
        "\n",
        "#mi_scores = make_mi_scores(X_train, y_train)\n",
        "#mi_scores = make_mi_scores(X_test, y_test)"
      ]
    },
    {
      "cell_type": "code",
      "execution_count": null,
      "metadata": {
        "id": "9pKwYpQ93_Gd"
      },
      "outputs": [],
      "source": [
        "def plot_utility_scores(scores):\n",
        "    y_scores = scores.sort_values(ascending=True)\n",
        "    width = np.arange(len(y_scores))\n",
        "    ticks = list(y_scores.index)\n",
        "    plt.barh(width, y_scores)\n",
        "    plt.yticks(width, ticks)\n",
        "    plt.title(\"Mutual Information Scores\")\n",
        "\n",
        "\n",
        "#plt.figure(dpi=100, figsize=(50, 50))\n",
        "#plt.xlabel(\"Score\")\n",
        "#plt.ylabel(\"Feature\")\n",
        "#plot_utility_scores(mi_scores)"
      ]
    },
    {
      "cell_type": "code",
      "execution_count": null,
      "metadata": {
        "id": "uf-grlKC3_Gd"
      },
      "outputs": [],
      "source": [
        "from sklearn.manifold import TSNE\n",
        "import time"
      ]
    },
    {
      "cell_type": "code",
      "execution_count": null,
      "metadata": {
        "colab": {
          "base_uri": "https://localhost:8080/"
        },
        "id": "g0Nny9fX3_Gd",
        "outputId": "c95eb75f-1bd0-4821-8f86-c7ab65d7cd04"
      },
      "outputs": [
        {
          "name": "stdout",
          "output_type": "stream",
          "text": [
            "t-SNE: 0.0001742839813232422 seconds\n"
          ]
        }
      ],
      "source": [
        "time_start = time.time()\n",
        "tsne = TSNE(n_components=2, verbose=0, perplexity=40, n_iter=10)\n",
        "#tsne_results = tsne.fit_transform(X_train)\n",
        "#tsne_results = tsne.fit_transform(X_test)\n",
        "print('t-SNE: {} seconds'.format(time.time()-time_start))"
      ]
    },
    {
      "cell_type": "code",
      "execution_count": null,
      "metadata": {
        "colab": {
          "base_uri": "https://localhost:8080/"
        },
        "id": "E7w1z9zC3_Ge",
        "outputId": "f0fb244f-a336-4c1a-ed48-3073a073985d"
      },
      "outputs": [
        {
          "data": {
            "text/plain": [
              "{0: 0.7153075822603719, 1: 1.6611295681063123}"
            ]
          },
          "execution_count": 14,
          "metadata": {},
          "output_type": "execute_result"
        }
      ],
      "source": [
        "from sklearn.utils import class_weight\n",
        "\n",
        "class_weights = class_weight.compute_class_weight('balanced',\n",
        "                                                 classes=np.unique(y_train),\n",
        "                                                 y=y_train)\n",
        "\n",
        "class_weights = {k: v for k,v in enumerate(class_weights)}\n",
        "class_weights"
      ]
    },
    {
      "cell_type": "code",
      "execution_count": null,
      "metadata": {
        "id": "fSlN5zhV3_Ge"
      },
      "outputs": [],
      "source": [
        "# from imblearn.over_sampling import SMOTE\n",
        "\n",
        "# oversample = SMOTE()\n",
        "# X_train, y_train = oversample.fit_resample(X_train, y_train)"
      ]
    },
    {
      "cell_type": "code",
      "execution_count": null,
      "metadata": {
        "id": "Qhr56wfE3_Gf"
      },
      "outputs": [],
      "source": [
        "from sklearn.preprocessing import MinMaxScaler\n",
        "\n",
        "min_max_scaler = MinMaxScaler()\n",
        "X_train =  min_max_scaler.fit_transform(X_train)\n",
        "X_test = min_max_scaler.transform(X_test)"
      ]
    },
    {
      "cell_type": "code",
      "execution_count": null,
      "metadata": {
        "id": "MyUhfwon3_Gf"
      },
      "outputs": [],
      "source": [
        "X_train = X_train.reshape(X_train.shape[0], X_train.shape[1], 1)\n",
        "X_test = X_test.reshape(X_test.shape[0], X_test.shape[1], 1)"
      ]
    },
    {
      "cell_type": "code",
      "execution_count": null,
      "metadata": {
        "id": "roPgP9Qt3_Gf"
      },
      "outputs": [],
      "source": [
        "input_shape = X_train.shape[1:]"
      ]
    },
    {
      "cell_type": "code",
      "execution_count": null,
      "metadata": {
        "colab": {
          "base_uri": "https://localhost:8080/"
        },
        "id": "yp1KELhP3_Gf",
        "outputId": "008a40e7-bf00-4794-96bf-b215bb6a4e97"
      },
      "outputs": [
        {
          "name": "stdout",
          "output_type": "stream",
          "text": [
            "(80000, 19, 1) (20000, 19, 1)\n",
            "(19, 1)\n"
          ]
        }
      ],
      "source": [
        "print(X_train.shape, X_test.shape)\n",
        "print(input_shape)"
      ]
    },
    {
      "cell_type": "code",
      "execution_count": null,
      "metadata": {
        "colab": {
          "base_uri": "https://localhost:8080/"
        },
        "id": "N6gAQXE73_Gf",
        "outputId": "29cf93a1-b050-4057-e24f-a9b93dfefcc4"
      },
      "outputs": [
        {
          "data": {
            "text/plain": [
              "2"
            ]
          },
          "execution_count": 19,
          "metadata": {},
          "output_type": "execute_result"
        }
      ],
      "source": [
        "num_classes = len(np.unique(y_train))\n",
        "num_classes"
      ]
    },
    {
      "cell_type": "code",
      "execution_count": null,
      "metadata": {
        "id": "Ixglik7W3_Gf"
      },
      "outputs": [],
      "source": [
        "from  tensorflow.keras.utils import to_categorical\n",
        "\n",
        "y_train = to_categorical(y_train, num_classes=num_classes)\n",
        "y_test = to_categorical(y_test, num_classes=num_classes)\n",
        "\n",
        "#y_train = y_train.reshape(-1,1)\n",
        "#y_test = y_test.reshape(-1,1)"
      ]
    },
    {
      "cell_type": "code",
      "execution_count": null,
      "metadata": {
        "colab": {
          "base_uri": "https://localhost:8080/"
        },
        "id": "nCegrz8B3_Gg",
        "outputId": "bb8f39a9-84a6-475c-a2f3-bd30d44634fa"
      },
      "outputs": [
        {
          "name": "stdout",
          "output_type": "stream",
          "text": [
            "(80000, 2) (20000, 2)\n"
          ]
        }
      ],
      "source": [
        "print(y_train.shape, y_test.shape)"
      ]
    },
    {
      "attachments": {},
      "cell_type": "markdown",
      "metadata": {
        "id": "ahBUB3ceE7Sl"
      },
      "source": [
        "# **LSTM**"
      ]
    },
    {
      "cell_type": "code",
      "execution_count": null,
      "metadata": {
        "colab": {
          "base_uri": "https://localhost:8080/",
          "height": 363
        },
        "id": "p3R4O9IkE5Vt",
        "outputId": "eed8850d-8042-45df-a11f-1e79b8c9a262"
      },
      "outputs": [],
      "source": [
        "from keras.models import Sequential\n",
        "from keras.layers import LSTM, Dense\n",
        "from keras.callbacks import ModelCheckpoint, EarlyStopping, ReduceLROnPlateau\n",
        "from keras.callbacks import ModelCheckpoint, TensorBoard, ReduceLROnPlateau, CSVLogger\n",
        "\n",
        "# Define the callbacks\n",
        "callbacks = [\n",
        "    ModelCheckpoint(filepath='best_model.h5', monitor='val_loss', save_best_only=True),\n",
        "    TensorBoard(log_dir='logs'),\n",
        "    ReduceLROnPlateau(monitor='val_loss', factor=0.1, patience=5),\n",
        "    CSVLogger('training.log')\n",
        "]\n",
        "\n",
        "early_stopping = EarlyStopping(monitor=\"val_loss\", mode=\"min\", verbose=1, patience=10)\n",
        "lr_reduce = ReduceLROnPlateau(monitor='val_loss', factor=0.5, patience=5, mode=\"min\", verbose=1, min_lr=0)\n",
        "\n",
        "model = Sequential()\n",
        "model.add(LSTM(64, input_shape=input_shape))\n",
        "model.add(Dense(num_classes, activation='softmax'))\n",
        "\n",
        "model.compile(optimizer='adam', loss='categorical_crossentropy', metrics=['accuracy'])\n",
        "history = model.fit(X_train, y_train, validation_data=(X_test, y_test), epochs=1, batch_size=512, callbacks=callbacks)\n"
      ]
    },
    {
      "cell_type": "code",
      "execution_count": null,
      "metadata": {
        "id": "zZNmO1lb3_Gg"
      },
      "outputs": [],
      "source": [
        "from tensorflow.keras.datasets import mnist\n",
        "from tensorflow.keras.utils import to_categorical\n",
        "from tensorflow.keras.models import Sequential\n",
        "from tensorflow.keras.layers import Dense, SimpleRNN, Flatten\n",
        "from tensorflow.keras.optimizers import Adam\n",
        "from sklearn.metrics import roc_curve, auc\n",
        "from itertools import cycle\n",
        "import matplotlib.pyplot as plt\n",
        "import numpy as np\n",
        "import pandas as pd\n",
        "from sklearn.metrics import accuracy_score, precision_recall_fscore_support, confusion_matrix, classification_report, precision_score, recall_score, f1_score\n",
        "import seaborn as sn\n",
        "from sklearn.preprocessing import LabelEncoder"
      ]
    },
    {
      "cell_type": "code",
      "execution_count": null,
      "metadata": {
        "id": "cZijzkG83_Gg"
      },
      "outputs": [],
      "source": [
        "def ROC_plot(y_true_ohe, y_hat_ohe, label_encoder, n_classes):\n",
        "    lw = 2\n",
        "    fpr = dict()\n",
        "    tpr = dict()\n",
        "    roc_auc = dict()\n",
        "    for i in range(n_classes):\n",
        "        fpr[i], tpr[i], _ = roc_curve(y_true_ohe[:, i], y_hat_ohe[:, i])\n",
        "        roc_auc[i] = auc(fpr[i], tpr[i])\n",
        "\n",
        "    all_fpr = np.unique(np.concatenate([fpr[i] for i in range(n_classes)]))\n",
        "    mean_tpr = np.zeros_like(all_fpr)\n",
        "    for i in range(n_classes):\n",
        "        mean_tpr += np.interp(all_fpr, fpr[i], tpr[i])\n",
        "    mean_tpr /= n_classes\n",
        "    fpr[\"macro\"] = all_fpr\n",
        "    tpr[\"macro\"] = mean_tpr\n",
        "    roc_auc[\"macro\"] = auc(fpr[\"macro\"], tpr[\"macro\"])\n",
        "    fpr[\"micro\"], tpr[\"micro\"], _ = roc_curve(y_true_ohe.ravel(), y_hat_ohe.ravel())\n",
        "    roc_auc[\"micro\"] = auc(fpr[\"micro\"], tpr[\"micro\"])\n",
        "\n",
        "    plt.figure(figsize=(20, 20))\n",
        "    plt.plot(\n",
        "        fpr[\"micro\"],\n",
        "        tpr[\"micro\"],\n",
        "        label=\"micro-average ROC curve (area = {0:0.2f})\".format(roc_auc[\"micro\"]),\n",
        "        color=\"deeppink\",\n",
        "        linestyle=\":\",\n",
        "        linewidth=4,\n",
        "    )\n",
        "    plt.plot(\n",
        "        fpr[\"macro\"],\n",
        "        tpr[\"macro\"],\n",
        "        label=\"macro-average ROC curve (area = {0:0.2f})\".format(roc_auc[\"macro\"]),\n",
        "        color=\"navy\",\n",
        "        linestyle=\":\",\n",
        "        linewidth=4,\n",
        "    )\n",
        "    colors = cycle([\"aqua\", \"darkorange\", \"cornflowerblue\"])\n",
        "    for i, color in zip(range(n_classes), colors):\n",
        "        plt.plot(\n",
        "            fpr[i],\n",
        "            tpr[i],\n",
        "            color=color,\n",
        "            lw=lw,\n",
        "            label=\"ROC curve of class {0} (area = {1:0.2f})\".format(label_encoder.classes_[i], roc_auc[i]))\n",
        "    plt.plot([0, 1], [0, 1], \"k--\", lw=lw)\n",
        "    plt.xlim([0.0, 1.0])\n",
        "    plt.ylim([0.0, 1.05])\n",
        "    plt.xlabel(\"False Positive Rate\")\n",
        "    plt.ylabel(\"True Positive Rate\")\n",
        "    plt.title(\"multiclass characteristic\")\n",
        "    plt.legend(loc=\"lower right\")\n",
        "    plt.show()"
      ]
    },
    {
      "cell_type": "code",
      "execution_count": null,
      "metadata": {
        "id": "GG_qPBTP3_Gh"
      },
      "outputs": [],
      "source": [
        "from sklearn.metrics import accuracy_score, precision_recall_fscore_support,confusion_matrix, classification_report, precision_score, recall_score\n",
        "from sklearn.metrics import f1_score as f1_score_rep\n",
        "import seaborn as sn\n",
        "target= label_encoder.classes_.tolist()\n",
        "target = list(map(str, target))\n",
        "def print_score(y_pred, y_real, label_encoder):\n",
        "    print(\"Accuracy: \", accuracy_score(y_real, y_pred))\n",
        "    print(\"Precision: \", precision_score(y_real, y_pred, average=\"micro\"))\n",
        "    print(\"Recall: \", recall_score(y_real, y_pred, average=\"micro\"))\n",
        "    print(\"F1 Score: \", f1_score(y_real, y_pred))\n",
        "    print()\n",
        "    print(\"Macro Precision, Recall, F1 Score, and Support (macro average)\")\n",
        "    print(precision_recall_fscore_support(y_real, y_pred, average=\"macro\"))\n",
        "    print()\n",
        "    print(\"Macro Precision, Recall, F1 Score, and Support (micro average)\")\n",
        "    print(precision_recall_fscore_support(y_real, y_pred, average=\"micro\"))\n",
        "    print()\n",
        "    print(\"Macro Precision, Recall, F1 Score, and Support (weighted average)\")\n",
        "    print(precision_recall_fscore_support(y_real, y_pred, average=\"weighted\"))\n",
        "\n",
        "    print()\n",
        "    print(\"Confusion Matrix\")\n",
        "    cm = confusion_matrix(y_real, y_pred)\n",
        "    cm = cm.astype(\"float\") / cm.sum(axis=1)[:, np.newaxis]\n",
        "    df_cm = pd.DataFrame(\n",
        "        cm,\n",
        "        index=[i for i in label_encoder.classes_],\n",
        "        columns=[i for i in label_encoder.classes_],\n",
        "    )\n",
        "    plt.figure(figsize=(10, 7))\n",
        "    sn.heatmap(df_cm, annot=True)\n",
        "    plt.show()\n",
        "\n",
        "    print()\n",
        "    print(\"Classification Report\")\n",
        "    print(\n",
        "\n",
        "        classification_report(\n",
        "            y_real, y_pred, target_names=target\n",
        "        )\n",
        "    )\n",
        "from sklearn.metrics import accuracy_score, precision_recall_fscore_support,confusion_matrix, classification_report, precision_score, recall_score\n",
        "from sklearn.metrics import f1_score as f1_score_rep\n",
        "import seaborn as sn\n",
        "target= label_encoder.classes_.tolist()\n",
        "target = list(map(str, target))\n",
        "def print_score(y_pred, y_real, label_encoder):\n",
        "    print(\"Accuracy: \", accuracy_score(y_real, y_pred))\n",
        "    print(\"Precision: \", precision_score(y_real, y_pred, average=\"micro\"))\n",
        "    print(\"Recall: \", recall_score(y_real, y_pred, average=\"micro\"))\n",
        "    print(\"F1 Score: \", f1_score(y_real, y_pred))\n",
        "    print()\n",
        "    print(\"Macro Precision, Recall, F1 Score, and Support (macro average)\")\n",
        "    print(precision_recall_fscore_support(y_real, y_pred, average=\"macro\"))\n",
        "    print()\n",
        "    print(\"Macro Precision, Recall, F1 Score, and Support (micro average)\")\n",
        "    print(precision_recall_fscore_support(y_real, y_pred, average=\"micro\"))\n",
        "    print()\n",
        "    print(\"Macro Precision, Recall, F1 Score, and Support (weighted average)\")\n",
        "    print(precision_recall_fscore_support(y_real, y_pred, average=\"weighted\"))\n",
        "\n",
        "    print()\n",
        "    print(\"Confusion Matrix\")\n",
        "    cm = confusion_matrix(y_real, y_pred)\n",
        "    cm = cm.astype(\"float\") / cm.sum(axis=1)[:, np.newaxis]\n",
        "    df_cm = pd.DataFrame(\n",
        "        cm,\n",
        "        index=[i for i in label_encoder.classes_],\n",
        "        columns=[i for i in label_encoder.classes_],\n",
        "    )\n",
        "    plt.figure(figsize=(10, 7))\n",
        "    sn.heatmap(df_cm, annot=True)\n",
        "    plt.show()\n",
        "\n",
        "    print()\n",
        "    print(\"Classification Report\")\n",
        "    print(\n",
        "\n",
        "        classification_report(\n",
        "            y_real, y_pred, target_names=target\n",
        "        )\n",
        "    )\n"
      ]
    },
    {
      "cell_type": "code",
      "execution_count": null,
      "metadata": {
        "colab": {
          "base_uri": "https://localhost:8080/"
        },
        "id": "aI70mcRX3_Gh",
        "outputId": "bd1fe57c-f990-46a8-da7a-f982595a5a44"
      },
      "outputs": [
        {
          "name": "stdout",
          "output_type": "stream",
          "text": [
            "Looking in indexes: https://pypi.org/simple, https://us-python.pkg.dev/colab-wheels/public/simple/\n",
            "Collecting livelossplot\n",
            "  Downloading livelossplot-0.5.5-py3-none-any.whl (22 kB)\n",
            "Requirement already satisfied: matplotlib in /usr/local/lib/python3.10/dist-packages (from livelossplot) (3.7.1)\n",
            "Requirement already satisfied: bokeh in /usr/local/lib/python3.10/dist-packages (from livelossplot) (2.4.3)\n",
            "Requirement already satisfied: Jinja2>=2.9 in /usr/local/lib/python3.10/dist-packages (from bokeh->livelossplot) (3.1.2)\n",
            "Requirement already satisfied: numpy>=1.11.3 in /usr/local/lib/python3.10/dist-packages (from bokeh->livelossplot) (1.22.4)\n",
            "Requirement already satisfied: packaging>=16.8 in /usr/local/lib/python3.10/dist-packages (from bokeh->livelossplot) (23.1)\n",
            "Requirement already satisfied: pillow>=7.1.0 in /usr/local/lib/python3.10/dist-packages (from bokeh->livelossplot) (8.4.0)\n",
            "Requirement already satisfied: PyYAML>=3.10 in /usr/local/lib/python3.10/dist-packages (from bokeh->livelossplot) (6.0)\n",
            "Requirement already satisfied: tornado>=5.1 in /usr/local/lib/python3.10/dist-packages (from bokeh->livelossplot) (6.3.1)\n",
            "Requirement already satisfied: typing-extensions>=3.10.0 in /usr/local/lib/python3.10/dist-packages (from bokeh->livelossplot) (4.5.0)\n",
            "Requirement already satisfied: contourpy>=1.0.1 in /usr/local/lib/python3.10/dist-packages (from matplotlib->livelossplot) (1.0.7)\n",
            "Requirement already satisfied: cycler>=0.10 in /usr/local/lib/python3.10/dist-packages (from matplotlib->livelossplot) (0.11.0)\n",
            "Requirement already satisfied: fonttools>=4.22.0 in /usr/local/lib/python3.10/dist-packages (from matplotlib->livelossplot) (4.39.3)\n",
            "Requirement already satisfied: kiwisolver>=1.0.1 in /usr/local/lib/python3.10/dist-packages (from matplotlib->livelossplot) (1.4.4)\n",
            "Requirement already satisfied: pyparsing>=2.3.1 in /usr/local/lib/python3.10/dist-packages (from matplotlib->livelossplot) (3.0.9)\n",
            "Requirement already satisfied: python-dateutil>=2.7 in /usr/local/lib/python3.10/dist-packages (from matplotlib->livelossplot) (2.8.2)\n",
            "Requirement already satisfied: MarkupSafe>=2.0 in /usr/local/lib/python3.10/dist-packages (from Jinja2>=2.9->bokeh->livelossplot) (2.1.2)\n",
            "Requirement already satisfied: six>=1.5 in /usr/local/lib/python3.10/dist-packages (from python-dateutil>=2.7->matplotlib->livelossplot) (1.16.0)\n",
            "Installing collected packages: livelossplot\n",
            "Successfully installed livelossplot-0.5.5\n"
          ]
        }
      ],
      "source": [
        "!pip install livelossplot"
      ]
    },
    {
      "cell_type": "code",
      "execution_count": null,
      "metadata": {
        "id": "Qr4GBXxK3_Gi"
      },
      "outputs": [],
      "source": [
        "from keras.callbacks import ModelCheckpoint, EarlyStopping, ReduceLROnPlateau\n",
        "from livelossplot import PlotLossesKeras\n",
        "\n",
        "\n",
        "model_weights_file_path = \"model_best_weights.h5\"\n",
        "checkpoint = ModelCheckpoint(filepath=model_weights_file_path, monitor=\"val_loss\", verbose=1, save_best_only=True, mode=\"min\", save_weights_only=True)\n",
        "early_stopping = EarlyStopping(monitor=\"val_loss\", mode=\"min\", verbose=1, patience=10)\n",
        "lr_reduce = ReduceLROnPlateau(monitor='val_loss', factor=0.5, patience=5, mode=\"min\", verbose=1, min_lr=0)\n",
        "plotlosses = PlotLossesKeras()\n",
        "\n",
        "call_backs = [checkpoint, early_stopping, lr_reduce, plotlosses]"
      ]
    },
    {
      "cell_type": "code",
      "execution_count": null,
      "metadata": {
        "colab": {
          "base_uri": "https://localhost:8080/"
        },
        "id": "no_ijg1h3_Gj",
        "outputId": "707e124c-cfbe-46fa-c1a2-907d46aba29e"
      },
      "outputs": [
        {
          "name": "stdout",
          "output_type": "stream",
          "text": [
            "(80000, 2)\n"
          ]
        }
      ],
      "source": [
        "print(y_train.shape)\n"
      ]
    },
    {
      "attachments": {},
      "cell_type": "markdown",
      "metadata": {
        "id": "eyAMi_Nw3_Gk"
      },
      "source": [
        "# Validation Results"
      ]
    },
    {
      "cell_type": "code",
      "execution_count": null,
      "metadata": {
        "colab": {
          "base_uri": "https://localhost:8080/"
        },
        "id": "SiquUb2d3_Gk",
        "outputId": "eac5a769-eb97-4489-92f1-c525b8158955"
      },
      "outputs": [
        {
          "name": "stdout",
          "output_type": "stream",
          "text": [
            "625/625 [==============================] - 5s 7ms/step\n"
          ]
        }
      ],
      "source": [
        "y_hat = model.predict(X_test)"
      ]
    },
    {
      "cell_type": "code",
      "execution_count": null,
      "metadata": {
        "id": "24F1HThO3_Gk"
      },
      "outputs": [],
      "source": [
        "y_hat = np.argmax(y_hat, axis=1)\n",
        "y_true = np.argmax(y_test, axis=1)"
      ]
    },
    {
      "cell_type": "code",
      "execution_count": null,
      "metadata": {
        "id": "05SZBy8Q3_Gk"
      },
      "outputs": [],
      "source": [
        "y_true_ohe = to_categorical(y_true, num_classes=num_classes)\n",
        "y_hat_ohe =  to_categorical(y_hat, num_classes=num_classes)"
      ]
    },
    {
      "attachments": {},
      "cell_type": "markdown",
      "metadata": {
        "id": "GPm2DdE3Bikx"
      },
      "source": []
    },
    {
      "cell_type": "code",
      "execution_count": null,
      "metadata": {
        "colab": {
          "base_uri": "https://localhost:8080/",
          "height": 1000
        },
        "id": "KxF3Kemg3_Gk",
        "outputId": "ce09c8d3-7784-4a09-8ac7-ba16ee2352bf"
      },
      "outputs": [
        {
          "data": {
            "image/png": "[encoded data removed]",
            "text/plain": [
              "<Figure size 2000x2000 with 1 Axes>"
            ]
          },
          "metadata": {},
          "output_type": "display_data"
        }
      ],
      "source": [
        "\n",
        "ROC_plot(y_true_ohe, y_hat_ohe, label_encoder, num_classes)"
      ]
    },
    {
      "cell_type": "code",
      "execution_count": null,
      "metadata": {
        "colab": {
          "base_uri": "https://localhost:8080/",
          "height": 1000
        },
        "id": "h5mynfpm3_Gl",
        "outputId": "27231750-e735-4ae3-9a18-4171979b813f"
      },
      "outputs": [
        {
          "name": "stdout",
          "output_type": "stream",
          "text": [
            "Accuracy:  0.81945\n",
            "Precision:  0.81945\n",
            "Recall:  0.81945\n",
            "F1 Score:  0.5715980543362202\n",
            "\n",
            "Macro Precision, Recall, F1 Score, and Support (macro average)\n",
            "(0.8973622875333978, 0.7000830564784053, 0.728610468047398, None)\n",
            "\n",
            "Macro Precision, Recall, F1 Score, and Support (micro average)\n",
            "(0.81945, 0.81945, 0.81945, None)\n",
            "\n",
            "Macro Precision, Recall, F1 Score, and Support (weighted average)\n",
            "(0.8565124779716902, 0.81945, 0.7911014087044468, None)\n",
            "\n",
            "Confusion Matrix\n"
          ]
        },
        {
          "data": {
            "image/png": "[encoded data removed]",
            "text/plain": [
              "<Figure size 1000x700 with 2 Axes>"
            ]
          },
          "metadata": {},
          "output_type": "display_data"
        },
        {
          "name": "stdout",
          "output_type": "stream",
          "text": [
            "\n",
            "Classification Report\n",
            "              precision    recall  f1-score   support\n",
            "\n",
            "           0       0.79      1.00      0.89     13980\n",
            "           1       1.00      0.40      0.57      6020\n",
            "\n",
            "    accuracy                           0.82     20000\n",
            "   macro avg       0.90      0.70      0.73     20000\n",
            "weighted avg       0.86      0.82      0.79     20000\n",
            "\n"
          ]
        }
      ],
      "source": [
        "print_score(y_hat, y_true, label_encoder)"
      ]
    }
  ],
  "metadata": {
    "colab": {
      "include_colab_link": true,
      "provenance": []
    },
    "kernelspec": {
      "display_name": "Python 3",
      "language": "python",
      "name": "python3"
    },
    "language_info": {
      "codemirror_mode": {
        "name": "ipython",
        "version": 3
      },
      "file_extension": ".py",
      "mimetype": "text/x-python",
      "name": "python",
      "nbconvert_exporter": "python",
      "pygments_lexer": "ipython3",
      "version": "3.7.12"
    }
  },
  "nbformat": 4,
  "nbformat_minor": 0
}
